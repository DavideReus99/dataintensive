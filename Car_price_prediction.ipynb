{
  "nbformat": 4,
  "nbformat_minor": 0,
  "metadata": {
    "colab": {
      "name": "Car price prediction.ipynb",
      "provenance": [],
      "mount_file_id": "1CRZFxHEV0yqk1MllhEawu3hS9vpZcD3Q",
      "authorship_tag": "ABX9TyPhVyWG+eTlTI5mnlcdHou5",
      "include_colab_link": true
    },
    "kernelspec": {
      "name": "python3",
      "display_name": "Python 3"
    },
    "language_info": {
      "name": "python"
    }
  },
  "cells": [
    {
      "cell_type": "markdown",
      "metadata": {
        "id": "view-in-github",
        "colab_type": "text"
      },
      "source": [
        "<a href=\"https://colab.research.google.com/github/DavideReus99/dataintensive/blob/main/Car_price_prediction.ipynb\" target=\"_parent\"><img src=\"https://colab.research.google.com/assets/colab-badge.svg\" alt=\"Open In Colab\"/></a>"
      ]
    },
    {
      "cell_type": "markdown",
      "metadata": {
        "id": "bTpqTCNziv7o"
      },
      "source": [
        "# **Previsione prezzo di mercato di automobili in base alle caratteristiche**"
      ]
    },
    {
      "cell_type": "markdown",
      "metadata": {
        "id": "HEgmWeZKgrJM"
      },
      "source": [
        "### **Descrizione del problema**\n",
        "\n",
        "Vogliamo entrare nel mercato statunitense automobilistico, e il nostro obiettivo è stabilire il prezzo di entrata dei nostri veicoli, in base alle loro caratteristiche.\n",
        "Si tratta di un problema di regressione, in quanto la variabile da predire è continua."
      ]
    },
    {
      "cell_type": "markdown",
      "metadata": {
        "id": "9RsGPBuZjMaL"
      },
      "source": [
        "### **Caricamento librerie**\n",
        "\n",
        "Carichiamo le librerie necessarie per effettuare operazioni sui dati."
      ]
    },
    {
      "cell_type": "code",
      "metadata": {
        "id": "eNOChhhrgpvb"
      },
      "source": [
        "import numpy as np\n",
        "import pandas as pd\n",
        "import matplotlib.pyplot as plt\n",
        "import seaborn as sns\n",
        "import os.path\n",
        "from urllib.request import urlretrieve\n",
        "import warnings\n",
        "warnings.filterwarnings(\"ignore\")"
      ],
      "execution_count": null,
      "outputs": []
    },
    {
      "cell_type": "markdown",
      "metadata": {
        "id": "8yVpLOFXka4d"
      },
      "source": [
        "### **Caricamento dati**\n"
      ]
    },
    {
      "cell_type": "code",
      "metadata": {
        "id": "cnEEnt0bn5CF",
        "colab": {
          "base_uri": "https://localhost:8080/",
          "height": 272
        },
        "outputId": "ba8f304a-b8e5-4c4e-c964-bd7b0ccb6322"
      },
      "source": [
        "dataset_url = \"https://github.com/DavideReus99/dataintensive/raw/main/CarPrice_Assignment.csv\"\n",
        "dataset_filename = \"CarPrice_Assignment.csv\"\n",
        "\n",
        "if not os.path.exists(dataset_filename):\n",
        "  urlretrieve(dataset_url, dataset_filename)\n",
        "\n",
        "data = pd.read_csv(dataset_filename, sep=\",\")\n",
        "\n",
        "data.head()"
      ],
      "execution_count": null,
      "outputs": [
        {
          "output_type": "execute_result",
          "data": {
            "text/html": [
              "<div>\n",
              "<style scoped>\n",
              "    .dataframe tbody tr th:only-of-type {\n",
              "        vertical-align: middle;\n",
              "    }\n",
              "\n",
              "    .dataframe tbody tr th {\n",
              "        vertical-align: top;\n",
              "    }\n",
              "\n",
              "    .dataframe thead th {\n",
              "        text-align: right;\n",
              "    }\n",
              "</style>\n",
              "<table border=\"1\" class=\"dataframe\">\n",
              "  <thead>\n",
              "    <tr style=\"text-align: right;\">\n",
              "      <th></th>\n",
              "      <th>car_ID</th>\n",
              "      <th>symboling</th>\n",
              "      <th>CarName</th>\n",
              "      <th>fueltype</th>\n",
              "      <th>aspiration</th>\n",
              "      <th>doornumber</th>\n",
              "      <th>carbody</th>\n",
              "      <th>drivewheel</th>\n",
              "      <th>enginelocation</th>\n",
              "      <th>wheelbase</th>\n",
              "      <th>carlength</th>\n",
              "      <th>carwidth</th>\n",
              "      <th>carheight</th>\n",
              "      <th>curbweight</th>\n",
              "      <th>enginetype</th>\n",
              "      <th>cylindernumber</th>\n",
              "      <th>enginesize</th>\n",
              "      <th>fuelsystem</th>\n",
              "      <th>boreratio</th>\n",
              "      <th>stroke</th>\n",
              "      <th>compressionratio</th>\n",
              "      <th>horsepower</th>\n",
              "      <th>peakrpm</th>\n",
              "      <th>citympg</th>\n",
              "      <th>highwaympg</th>\n",
              "      <th>price</th>\n",
              "    </tr>\n",
              "  </thead>\n",
              "  <tbody>\n",
              "    <tr>\n",
              "      <th>0</th>\n",
              "      <td>1</td>\n",
              "      <td>3</td>\n",
              "      <td>alfa-romero giulia</td>\n",
              "      <td>gas</td>\n",
              "      <td>std</td>\n",
              "      <td>two</td>\n",
              "      <td>convertible</td>\n",
              "      <td>rwd</td>\n",
              "      <td>front</td>\n",
              "      <td>88.6</td>\n",
              "      <td>168.8</td>\n",
              "      <td>64.1</td>\n",
              "      <td>48.8</td>\n",
              "      <td>2548</td>\n",
              "      <td>dohc</td>\n",
              "      <td>four</td>\n",
              "      <td>130</td>\n",
              "      <td>mpfi</td>\n",
              "      <td>3.47</td>\n",
              "      <td>2.68</td>\n",
              "      <td>9.0</td>\n",
              "      <td>111</td>\n",
              "      <td>5000</td>\n",
              "      <td>21</td>\n",
              "      <td>27</td>\n",
              "      <td>13495.0</td>\n",
              "    </tr>\n",
              "    <tr>\n",
              "      <th>1</th>\n",
              "      <td>2</td>\n",
              "      <td>3</td>\n",
              "      <td>alfa-romero stelvio</td>\n",
              "      <td>gas</td>\n",
              "      <td>std</td>\n",
              "      <td>two</td>\n",
              "      <td>convertible</td>\n",
              "      <td>rwd</td>\n",
              "      <td>front</td>\n",
              "      <td>88.6</td>\n",
              "      <td>168.8</td>\n",
              "      <td>64.1</td>\n",
              "      <td>48.8</td>\n",
              "      <td>2548</td>\n",
              "      <td>dohc</td>\n",
              "      <td>four</td>\n",
              "      <td>130</td>\n",
              "      <td>mpfi</td>\n",
              "      <td>3.47</td>\n",
              "      <td>2.68</td>\n",
              "      <td>9.0</td>\n",
              "      <td>111</td>\n",
              "      <td>5000</td>\n",
              "      <td>21</td>\n",
              "      <td>27</td>\n",
              "      <td>16500.0</td>\n",
              "    </tr>\n",
              "    <tr>\n",
              "      <th>2</th>\n",
              "      <td>3</td>\n",
              "      <td>1</td>\n",
              "      <td>alfa-romero Quadrifoglio</td>\n",
              "      <td>gas</td>\n",
              "      <td>std</td>\n",
              "      <td>two</td>\n",
              "      <td>hatchback</td>\n",
              "      <td>rwd</td>\n",
              "      <td>front</td>\n",
              "      <td>94.5</td>\n",
              "      <td>171.2</td>\n",
              "      <td>65.5</td>\n",
              "      <td>52.4</td>\n",
              "      <td>2823</td>\n",
              "      <td>ohcv</td>\n",
              "      <td>six</td>\n",
              "      <td>152</td>\n",
              "      <td>mpfi</td>\n",
              "      <td>2.68</td>\n",
              "      <td>3.47</td>\n",
              "      <td>9.0</td>\n",
              "      <td>154</td>\n",
              "      <td>5000</td>\n",
              "      <td>19</td>\n",
              "      <td>26</td>\n",
              "      <td>16500.0</td>\n",
              "    </tr>\n",
              "    <tr>\n",
              "      <th>3</th>\n",
              "      <td>4</td>\n",
              "      <td>2</td>\n",
              "      <td>audi 100 ls</td>\n",
              "      <td>gas</td>\n",
              "      <td>std</td>\n",
              "      <td>four</td>\n",
              "      <td>sedan</td>\n",
              "      <td>fwd</td>\n",
              "      <td>front</td>\n",
              "      <td>99.8</td>\n",
              "      <td>176.6</td>\n",
              "      <td>66.2</td>\n",
              "      <td>54.3</td>\n",
              "      <td>2337</td>\n",
              "      <td>ohc</td>\n",
              "      <td>four</td>\n",
              "      <td>109</td>\n",
              "      <td>mpfi</td>\n",
              "      <td>3.19</td>\n",
              "      <td>3.40</td>\n",
              "      <td>10.0</td>\n",
              "      <td>102</td>\n",
              "      <td>5500</td>\n",
              "      <td>24</td>\n",
              "      <td>30</td>\n",
              "      <td>13950.0</td>\n",
              "    </tr>\n",
              "    <tr>\n",
              "      <th>4</th>\n",
              "      <td>5</td>\n",
              "      <td>2</td>\n",
              "      <td>audi 100ls</td>\n",
              "      <td>gas</td>\n",
              "      <td>std</td>\n",
              "      <td>four</td>\n",
              "      <td>sedan</td>\n",
              "      <td>4wd</td>\n",
              "      <td>front</td>\n",
              "      <td>99.4</td>\n",
              "      <td>176.6</td>\n",
              "      <td>66.4</td>\n",
              "      <td>54.3</td>\n",
              "      <td>2824</td>\n",
              "      <td>ohc</td>\n",
              "      <td>five</td>\n",
              "      <td>136</td>\n",
              "      <td>mpfi</td>\n",
              "      <td>3.19</td>\n",
              "      <td>3.40</td>\n",
              "      <td>8.0</td>\n",
              "      <td>115</td>\n",
              "      <td>5500</td>\n",
              "      <td>18</td>\n",
              "      <td>22</td>\n",
              "      <td>17450.0</td>\n",
              "    </tr>\n",
              "  </tbody>\n",
              "</table>\n",
              "</div>"
            ],
            "text/plain": [
              "   car_ID  symboling                   CarName  ... citympg highwaympg    price\n",
              "0       1          3        alfa-romero giulia  ...      21         27  13495.0\n",
              "1       2          3       alfa-romero stelvio  ...      21         27  16500.0\n",
              "2       3          1  alfa-romero Quadrifoglio  ...      19         26  16500.0\n",
              "3       4          2               audi 100 ls  ...      24         30  13950.0\n",
              "4       5          2                audi 100ls  ...      18         22  17450.0\n",
              "\n",
              "[5 rows x 26 columns]"
            ]
          },
          "metadata": {},
          "execution_count": 7
        }
      ]
    },
    {
      "cell_type": "markdown",
      "metadata": {
        "id": "-6DSt9aboYJZ"
      },
      "source": [
        "### **Analisi esplorativa**"
      ]
    },
    {
      "cell_type": "markdown",
      "metadata": {
        "id": "gJ2z8rm6qDY9"
      },
      "source": [
        "### Informazioni sui dati"
      ]
    },
    {
      "cell_type": "code",
      "metadata": {
        "colab": {
          "base_uri": "https://localhost:8080/"
        },
        "id": "kdrbLM4Loc-9",
        "outputId": "70f8c58e-97aa-4604-9d99-781ac6707767"
      },
      "source": [
        "data.shape"
      ],
      "execution_count": null,
      "outputs": [
        {
          "output_type": "execute_result",
          "data": {
            "text/plain": [
              "(205, 26)"
            ]
          },
          "metadata": {},
          "execution_count": 8
        }
      ]
    },
    {
      "cell_type": "markdown",
      "metadata": {
        "id": "_Rj7tgheynS9"
      },
      "source": [
        "Il dataset contiene 205 istanze, ognuna caratterizzata da 26 feature."
      ]
    },
    {
      "cell_type": "code",
      "metadata": {
        "colab": {
          "base_uri": "https://localhost:8080/"
        },
        "id": "wjged91rp3Rx",
        "outputId": "4a4fed5c-51e0-4461-d15d-06968989a26a"
      },
      "source": [
        "data.info()"
      ],
      "execution_count": null,
      "outputs": [
        {
          "output_type": "stream",
          "name": "stdout",
          "text": [
            "<class 'pandas.core.frame.DataFrame'>\n",
            "RangeIndex: 205 entries, 0 to 204\n",
            "Data columns (total 26 columns):\n",
            " #   Column            Non-Null Count  Dtype  \n",
            "---  ------            --------------  -----  \n",
            " 0   car_ID            205 non-null    int64  \n",
            " 1   symboling         205 non-null    int64  \n",
            " 2   CarName           205 non-null    object \n",
            " 3   fueltype          205 non-null    object \n",
            " 4   aspiration        205 non-null    object \n",
            " 5   doornumber        205 non-null    object \n",
            " 6   carbody           205 non-null    object \n",
            " 7   drivewheel        205 non-null    object \n",
            " 8   enginelocation    205 non-null    object \n",
            " 9   wheelbase         205 non-null    float64\n",
            " 10  carlength         205 non-null    float64\n",
            " 11  carwidth          205 non-null    float64\n",
            " 12  carheight         205 non-null    float64\n",
            " 13  curbweight        205 non-null    int64  \n",
            " 14  enginetype        205 non-null    object \n",
            " 15  cylindernumber    205 non-null    object \n",
            " 16  enginesize        205 non-null    int64  \n",
            " 17  fuelsystem        205 non-null    object \n",
            " 18  boreratio         205 non-null    float64\n",
            " 19  stroke            205 non-null    float64\n",
            " 20  compressionratio  205 non-null    float64\n",
            " 21  horsepower        205 non-null    int64  \n",
            " 22  peakrpm           205 non-null    int64  \n",
            " 23  citympg           205 non-null    int64  \n",
            " 24  highwaympg        205 non-null    int64  \n",
            " 25  price             205 non-null    float64\n",
            "dtypes: float64(8), int64(8), object(10)\n",
            "memory usage: 41.8+ KB\n"
          ]
        }
      ]
    },
    {
      "cell_type": "markdown",
      "metadata": {
        "id": "5hpePLCkq2aP"
      },
      "source": [
        "Vediamo un elenco delle feature presenti:\n",
        "\n",
        "1. 'car_ID': codice identificativo del modello.\n",
        "2. 'symboling': ?.\n",
        "3. 'CarName': nome della macchina.\n",
        "4. 'fueltype': tipo di combustibile.\n",
        "5. 'aspiration': tipo di aspirazione del motore.\n",
        "6. 'doornumber': numero di porte.\n",
        "7. 'carbody': tipo di macchina.\n",
        "8. 'drivewheel': tipo di trazione.\n",
        "9. 'enginelocation': posizione del motore.\n",
        "10. 'wheelbase': passo.\n",
        "11. 'carlength': lunghezza.\n",
        "12. 'carwidth': larghezza.\n",
        "13. 'carheight': altezza.\n",
        "14. 'curbweight': peso in ordine di marcia.\n",
        "15. 'enginetype': tipo di motore.\n",
        "16. 'cylindernumber': numero di cilindri.\n",
        "17. 'enginesize': dimensione del motore.\n",
        "18. 'fuelsystem': sistema di alimentazione.\n",
        "19. 'boreratio': alesaggio.\n",
        "20. 'stroke': corsa.\n",
        "21. 'compressionratio': rapporto di compressione.\n",
        "22. 'horsepower': cavalli.\n",
        "23. 'peakrpm': giri massimi del motore.\n",
        "24. 'citympg': mpg (miglia per gallone) in città.\n",
        "25. 'highwaympg': mpg (miglia per gallone) in autostrada.\n",
        "26. 'price': prezzo.\n",
        "\n",
        "Le feature sono sia categoriche che numeriche.\n",
        "\n",
        "La variabile target è price, ovvero il prezzo della macchina, espresso in dollari."
      ]
    },
    {
      "cell_type": "code",
      "metadata": {
        "colab": {
          "base_uri": "https://localhost:8080/",
          "height": 302
        },
        "id": "A8blokxPy2xN",
        "outputId": "465f92d3-74a4-4742-8d95-4f093ff95c93"
      },
      "source": [
        "data.set_index('car_ID', inplace=True)\n",
        "data.head()"
      ],
      "execution_count": null,
      "outputs": [
        {
          "output_type": "execute_result",
          "data": {
            "text/html": [
              "<div>\n",
              "<style scoped>\n",
              "    .dataframe tbody tr th:only-of-type {\n",
              "        vertical-align: middle;\n",
              "    }\n",
              "\n",
              "    .dataframe tbody tr th {\n",
              "        vertical-align: top;\n",
              "    }\n",
              "\n",
              "    .dataframe thead th {\n",
              "        text-align: right;\n",
              "    }\n",
              "</style>\n",
              "<table border=\"1\" class=\"dataframe\">\n",
              "  <thead>\n",
              "    <tr style=\"text-align: right;\">\n",
              "      <th></th>\n",
              "      <th>symboling</th>\n",
              "      <th>CarName</th>\n",
              "      <th>fueltype</th>\n",
              "      <th>aspiration</th>\n",
              "      <th>doornumber</th>\n",
              "      <th>carbody</th>\n",
              "      <th>drivewheel</th>\n",
              "      <th>enginelocation</th>\n",
              "      <th>wheelbase</th>\n",
              "      <th>carlength</th>\n",
              "      <th>carwidth</th>\n",
              "      <th>carheight</th>\n",
              "      <th>curbweight</th>\n",
              "      <th>enginetype</th>\n",
              "      <th>cylindernumber</th>\n",
              "      <th>enginesize</th>\n",
              "      <th>fuelsystem</th>\n",
              "      <th>boreratio</th>\n",
              "      <th>stroke</th>\n",
              "      <th>compressionratio</th>\n",
              "      <th>horsepower</th>\n",
              "      <th>peakrpm</th>\n",
              "      <th>citympg</th>\n",
              "      <th>highwaympg</th>\n",
              "      <th>price</th>\n",
              "    </tr>\n",
              "    <tr>\n",
              "      <th>car_ID</th>\n",
              "      <th></th>\n",
              "      <th></th>\n",
              "      <th></th>\n",
              "      <th></th>\n",
              "      <th></th>\n",
              "      <th></th>\n",
              "      <th></th>\n",
              "      <th></th>\n",
              "      <th></th>\n",
              "      <th></th>\n",
              "      <th></th>\n",
              "      <th></th>\n",
              "      <th></th>\n",
              "      <th></th>\n",
              "      <th></th>\n",
              "      <th></th>\n",
              "      <th></th>\n",
              "      <th></th>\n",
              "      <th></th>\n",
              "      <th></th>\n",
              "      <th></th>\n",
              "      <th></th>\n",
              "      <th></th>\n",
              "      <th></th>\n",
              "      <th></th>\n",
              "    </tr>\n",
              "  </thead>\n",
              "  <tbody>\n",
              "    <tr>\n",
              "      <th>1</th>\n",
              "      <td>3</td>\n",
              "      <td>alfa-romero giulia</td>\n",
              "      <td>gas</td>\n",
              "      <td>std</td>\n",
              "      <td>two</td>\n",
              "      <td>convertible</td>\n",
              "      <td>rwd</td>\n",
              "      <td>front</td>\n",
              "      <td>88.6</td>\n",
              "      <td>168.8</td>\n",
              "      <td>64.1</td>\n",
              "      <td>48.8</td>\n",
              "      <td>2548</td>\n",
              "      <td>dohc</td>\n",
              "      <td>four</td>\n",
              "      <td>130</td>\n",
              "      <td>mpfi</td>\n",
              "      <td>3.47</td>\n",
              "      <td>2.68</td>\n",
              "      <td>9.0</td>\n",
              "      <td>111</td>\n",
              "      <td>5000</td>\n",
              "      <td>21</td>\n",
              "      <td>27</td>\n",
              "      <td>13495.0</td>\n",
              "    </tr>\n",
              "    <tr>\n",
              "      <th>2</th>\n",
              "      <td>3</td>\n",
              "      <td>alfa-romero stelvio</td>\n",
              "      <td>gas</td>\n",
              "      <td>std</td>\n",
              "      <td>two</td>\n",
              "      <td>convertible</td>\n",
              "      <td>rwd</td>\n",
              "      <td>front</td>\n",
              "      <td>88.6</td>\n",
              "      <td>168.8</td>\n",
              "      <td>64.1</td>\n",
              "      <td>48.8</td>\n",
              "      <td>2548</td>\n",
              "      <td>dohc</td>\n",
              "      <td>four</td>\n",
              "      <td>130</td>\n",
              "      <td>mpfi</td>\n",
              "      <td>3.47</td>\n",
              "      <td>2.68</td>\n",
              "      <td>9.0</td>\n",
              "      <td>111</td>\n",
              "      <td>5000</td>\n",
              "      <td>21</td>\n",
              "      <td>27</td>\n",
              "      <td>16500.0</td>\n",
              "    </tr>\n",
              "    <tr>\n",
              "      <th>3</th>\n",
              "      <td>1</td>\n",
              "      <td>alfa-romero Quadrifoglio</td>\n",
              "      <td>gas</td>\n",
              "      <td>std</td>\n",
              "      <td>two</td>\n",
              "      <td>hatchback</td>\n",
              "      <td>rwd</td>\n",
              "      <td>front</td>\n",
              "      <td>94.5</td>\n",
              "      <td>171.2</td>\n",
              "      <td>65.5</td>\n",
              "      <td>52.4</td>\n",
              "      <td>2823</td>\n",
              "      <td>ohcv</td>\n",
              "      <td>six</td>\n",
              "      <td>152</td>\n",
              "      <td>mpfi</td>\n",
              "      <td>2.68</td>\n",
              "      <td>3.47</td>\n",
              "      <td>9.0</td>\n",
              "      <td>154</td>\n",
              "      <td>5000</td>\n",
              "      <td>19</td>\n",
              "      <td>26</td>\n",
              "      <td>16500.0</td>\n",
              "    </tr>\n",
              "    <tr>\n",
              "      <th>4</th>\n",
              "      <td>2</td>\n",
              "      <td>audi 100 ls</td>\n",
              "      <td>gas</td>\n",
              "      <td>std</td>\n",
              "      <td>four</td>\n",
              "      <td>sedan</td>\n",
              "      <td>fwd</td>\n",
              "      <td>front</td>\n",
              "      <td>99.8</td>\n",
              "      <td>176.6</td>\n",
              "      <td>66.2</td>\n",
              "      <td>54.3</td>\n",
              "      <td>2337</td>\n",
              "      <td>ohc</td>\n",
              "      <td>four</td>\n",
              "      <td>109</td>\n",
              "      <td>mpfi</td>\n",
              "      <td>3.19</td>\n",
              "      <td>3.40</td>\n",
              "      <td>10.0</td>\n",
              "      <td>102</td>\n",
              "      <td>5500</td>\n",
              "      <td>24</td>\n",
              "      <td>30</td>\n",
              "      <td>13950.0</td>\n",
              "    </tr>\n",
              "    <tr>\n",
              "      <th>5</th>\n",
              "      <td>2</td>\n",
              "      <td>audi 100ls</td>\n",
              "      <td>gas</td>\n",
              "      <td>std</td>\n",
              "      <td>four</td>\n",
              "      <td>sedan</td>\n",
              "      <td>4wd</td>\n",
              "      <td>front</td>\n",
              "      <td>99.4</td>\n",
              "      <td>176.6</td>\n",
              "      <td>66.4</td>\n",
              "      <td>54.3</td>\n",
              "      <td>2824</td>\n",
              "      <td>ohc</td>\n",
              "      <td>five</td>\n",
              "      <td>136</td>\n",
              "      <td>mpfi</td>\n",
              "      <td>3.19</td>\n",
              "      <td>3.40</td>\n",
              "      <td>8.0</td>\n",
              "      <td>115</td>\n",
              "      <td>5500</td>\n",
              "      <td>18</td>\n",
              "      <td>22</td>\n",
              "      <td>17450.0</td>\n",
              "    </tr>\n",
              "  </tbody>\n",
              "</table>\n",
              "</div>"
            ],
            "text/plain": [
              "        symboling                   CarName  ... highwaympg    price\n",
              "car_ID                                       ...                    \n",
              "1               3        alfa-romero giulia  ...         27  13495.0\n",
              "2               3       alfa-romero stelvio  ...         27  16500.0\n",
              "3               1  alfa-romero Quadrifoglio  ...         26  16500.0\n",
              "4               2               audi 100 ls  ...         30  13950.0\n",
              "5               2                audi 100ls  ...         22  17450.0\n",
              "\n",
              "[5 rows x 25 columns]"
            ]
          },
          "metadata": {},
          "execution_count": 10
        }
      ]
    },
    {
      "cell_type": "markdown",
      "metadata": {
        "id": "1-B0dg-IzZeC"
      },
      "source": [
        "Poichè la colonna car_ID identifica univocamente i record del dataset, ma non riveste alcuna importanza ai fini della previsione, la assegnamo come indice del dataframe."
      ]
    },
    {
      "cell_type": "code",
      "metadata": {
        "colab": {
          "base_uri": "https://localhost:8080/",
          "height": 294
        },
        "id": "Fi5s41J3wu3x",
        "outputId": "64e18d6c-e62b-4b1d-daa5-17d8aff79e01"
      },
      "source": [
        "data.describe()"
      ],
      "execution_count": null,
      "outputs": [
        {
          "output_type": "execute_result",
          "data": {
            "text/html": [
              "<div>\n",
              "<style scoped>\n",
              "    .dataframe tbody tr th:only-of-type {\n",
              "        vertical-align: middle;\n",
              "    }\n",
              "\n",
              "    .dataframe tbody tr th {\n",
              "        vertical-align: top;\n",
              "    }\n",
              "\n",
              "    .dataframe thead th {\n",
              "        text-align: right;\n",
              "    }\n",
              "</style>\n",
              "<table border=\"1\" class=\"dataframe\">\n",
              "  <thead>\n",
              "    <tr style=\"text-align: right;\">\n",
              "      <th></th>\n",
              "      <th>symboling</th>\n",
              "      <th>wheelbase</th>\n",
              "      <th>carlength</th>\n",
              "      <th>carwidth</th>\n",
              "      <th>carheight</th>\n",
              "      <th>curbweight</th>\n",
              "      <th>enginesize</th>\n",
              "      <th>boreratio</th>\n",
              "      <th>stroke</th>\n",
              "      <th>compressionratio</th>\n",
              "      <th>horsepower</th>\n",
              "      <th>peakrpm</th>\n",
              "      <th>citympg</th>\n",
              "      <th>highwaympg</th>\n",
              "      <th>price</th>\n",
              "    </tr>\n",
              "  </thead>\n",
              "  <tbody>\n",
              "    <tr>\n",
              "      <th>count</th>\n",
              "      <td>205.000000</td>\n",
              "      <td>205.000000</td>\n",
              "      <td>205.000000</td>\n",
              "      <td>205.000000</td>\n",
              "      <td>205.000000</td>\n",
              "      <td>205.000000</td>\n",
              "      <td>205.000000</td>\n",
              "      <td>205.000000</td>\n",
              "      <td>205.000000</td>\n",
              "      <td>205.000000</td>\n",
              "      <td>205.000000</td>\n",
              "      <td>205.000000</td>\n",
              "      <td>205.000000</td>\n",
              "      <td>205.000000</td>\n",
              "      <td>205.000000</td>\n",
              "    </tr>\n",
              "    <tr>\n",
              "      <th>mean</th>\n",
              "      <td>0.834146</td>\n",
              "      <td>98.756585</td>\n",
              "      <td>174.049268</td>\n",
              "      <td>65.907805</td>\n",
              "      <td>53.724878</td>\n",
              "      <td>2555.565854</td>\n",
              "      <td>126.907317</td>\n",
              "      <td>3.329756</td>\n",
              "      <td>3.255415</td>\n",
              "      <td>10.142537</td>\n",
              "      <td>104.117073</td>\n",
              "      <td>5125.121951</td>\n",
              "      <td>25.219512</td>\n",
              "      <td>30.751220</td>\n",
              "      <td>13276.710571</td>\n",
              "    </tr>\n",
              "    <tr>\n",
              "      <th>std</th>\n",
              "      <td>1.245307</td>\n",
              "      <td>6.021776</td>\n",
              "      <td>12.337289</td>\n",
              "      <td>2.145204</td>\n",
              "      <td>2.443522</td>\n",
              "      <td>520.680204</td>\n",
              "      <td>41.642693</td>\n",
              "      <td>0.270844</td>\n",
              "      <td>0.313597</td>\n",
              "      <td>3.972040</td>\n",
              "      <td>39.544167</td>\n",
              "      <td>476.985643</td>\n",
              "      <td>6.542142</td>\n",
              "      <td>6.886443</td>\n",
              "      <td>7988.852332</td>\n",
              "    </tr>\n",
              "    <tr>\n",
              "      <th>min</th>\n",
              "      <td>-2.000000</td>\n",
              "      <td>86.600000</td>\n",
              "      <td>141.100000</td>\n",
              "      <td>60.300000</td>\n",
              "      <td>47.800000</td>\n",
              "      <td>1488.000000</td>\n",
              "      <td>61.000000</td>\n",
              "      <td>2.540000</td>\n",
              "      <td>2.070000</td>\n",
              "      <td>7.000000</td>\n",
              "      <td>48.000000</td>\n",
              "      <td>4150.000000</td>\n",
              "      <td>13.000000</td>\n",
              "      <td>16.000000</td>\n",
              "      <td>5118.000000</td>\n",
              "    </tr>\n",
              "    <tr>\n",
              "      <th>25%</th>\n",
              "      <td>0.000000</td>\n",
              "      <td>94.500000</td>\n",
              "      <td>166.300000</td>\n",
              "      <td>64.100000</td>\n",
              "      <td>52.000000</td>\n",
              "      <td>2145.000000</td>\n",
              "      <td>97.000000</td>\n",
              "      <td>3.150000</td>\n",
              "      <td>3.110000</td>\n",
              "      <td>8.600000</td>\n",
              "      <td>70.000000</td>\n",
              "      <td>4800.000000</td>\n",
              "      <td>19.000000</td>\n",
              "      <td>25.000000</td>\n",
              "      <td>7788.000000</td>\n",
              "    </tr>\n",
              "    <tr>\n",
              "      <th>50%</th>\n",
              "      <td>1.000000</td>\n",
              "      <td>97.000000</td>\n",
              "      <td>173.200000</td>\n",
              "      <td>65.500000</td>\n",
              "      <td>54.100000</td>\n",
              "      <td>2414.000000</td>\n",
              "      <td>120.000000</td>\n",
              "      <td>3.310000</td>\n",
              "      <td>3.290000</td>\n",
              "      <td>9.000000</td>\n",
              "      <td>95.000000</td>\n",
              "      <td>5200.000000</td>\n",
              "      <td>24.000000</td>\n",
              "      <td>30.000000</td>\n",
              "      <td>10295.000000</td>\n",
              "    </tr>\n",
              "    <tr>\n",
              "      <th>75%</th>\n",
              "      <td>2.000000</td>\n",
              "      <td>102.400000</td>\n",
              "      <td>183.100000</td>\n",
              "      <td>66.900000</td>\n",
              "      <td>55.500000</td>\n",
              "      <td>2935.000000</td>\n",
              "      <td>141.000000</td>\n",
              "      <td>3.580000</td>\n",
              "      <td>3.410000</td>\n",
              "      <td>9.400000</td>\n",
              "      <td>116.000000</td>\n",
              "      <td>5500.000000</td>\n",
              "      <td>30.000000</td>\n",
              "      <td>34.000000</td>\n",
              "      <td>16503.000000</td>\n",
              "    </tr>\n",
              "    <tr>\n",
              "      <th>max</th>\n",
              "      <td>3.000000</td>\n",
              "      <td>120.900000</td>\n",
              "      <td>208.100000</td>\n",
              "      <td>72.300000</td>\n",
              "      <td>59.800000</td>\n",
              "      <td>4066.000000</td>\n",
              "      <td>326.000000</td>\n",
              "      <td>3.940000</td>\n",
              "      <td>4.170000</td>\n",
              "      <td>23.000000</td>\n",
              "      <td>288.000000</td>\n",
              "      <td>6600.000000</td>\n",
              "      <td>49.000000</td>\n",
              "      <td>54.000000</td>\n",
              "      <td>45400.000000</td>\n",
              "    </tr>\n",
              "  </tbody>\n",
              "</table>\n",
              "</div>"
            ],
            "text/plain": [
              "        symboling   wheelbase   carlength  ...     citympg  highwaympg         price\n",
              "count  205.000000  205.000000  205.000000  ...  205.000000  205.000000    205.000000\n",
              "mean     0.834146   98.756585  174.049268  ...   25.219512   30.751220  13276.710571\n",
              "std      1.245307    6.021776   12.337289  ...    6.542142    6.886443   7988.852332\n",
              "min     -2.000000   86.600000  141.100000  ...   13.000000   16.000000   5118.000000\n",
              "25%      0.000000   94.500000  166.300000  ...   19.000000   25.000000   7788.000000\n",
              "50%      1.000000   97.000000  173.200000  ...   24.000000   30.000000  10295.000000\n",
              "75%      2.000000  102.400000  183.100000  ...   30.000000   34.000000  16503.000000\n",
              "max      3.000000  120.900000  208.100000  ...   49.000000   54.000000  45400.000000\n",
              "\n",
              "[8 rows x 15 columns]"
            ]
          },
          "metadata": {},
          "execution_count": 11
        }
      ]
    },
    {
      "cell_type": "markdown",
      "metadata": {
        "id": "Jn3CsoeAw2Jd"
      },
      "source": [
        "Rileviamo le statistiche principali del dataset per ogni feature numerica, ovvero numero elementi, media, massimo, minimo deviazione standard e percentili.\n",
        "\n",
        "Per esempio, la lunghezza delle macchine presenti varia da 141 a 208 pollici, con una media di 174 pollici."
      ]
    },
    {
      "cell_type": "markdown",
      "metadata": {
        "id": "duK6dTxEw68g"
      },
      "source": [
        "### **Pulizia dei dati**\n",
        "\n",
        "La pulizia dei dati è necessaria a fornire al modello una corretta rappresentazione della realtà in esame."
      ]
    },
    {
      "cell_type": "markdown",
      "metadata": {
        "id": "DkHNFpcT3Q-h"
      },
      "source": [
        "### Gestione dei valori nulli"
      ]
    },
    {
      "cell_type": "code",
      "metadata": {
        "colab": {
          "base_uri": "https://localhost:8080/"
        },
        "id": "OxgoSQ1t2uLT",
        "outputId": "0e498b9d-f289-44da-bfd2-1824d40c29c9"
      },
      "source": [
        "data.isna().sum()"
      ],
      "execution_count": null,
      "outputs": [
        {
          "output_type": "execute_result",
          "data": {
            "text/plain": [
              "symboling           0\n",
              "CarName             0\n",
              "fueltype            0\n",
              "aspiration          0\n",
              "doornumber          0\n",
              "carbody             0\n",
              "drivewheel          0\n",
              "enginelocation      0\n",
              "wheelbase           0\n",
              "carlength           0\n",
              "carwidth            0\n",
              "carheight           0\n",
              "curbweight          0\n",
              "enginetype          0\n",
              "cylindernumber      0\n",
              "enginesize          0\n",
              "fuelsystem          0\n",
              "boreratio           0\n",
              "stroke              0\n",
              "compressionratio    0\n",
              "horsepower          0\n",
              "peakrpm             0\n",
              "citympg             0\n",
              "highwaympg          0\n",
              "price               0\n",
              "dtype: int64"
            ]
          },
          "metadata": {},
          "execution_count": 12
        }
      ]
    },
    {
      "cell_type": "markdown",
      "metadata": {
        "id": "O4POyE__2wJl"
      },
      "source": [
        "Osserviamo che non sono presenti valori nulli, per cui non è necessario eliminare righe o inserire valori al posto di quelli nulli."
      ]
    },
    {
      "cell_type": "markdown",
      "metadata": {
        "id": "Kan7UEC53aW1"
      },
      "source": [
        "### Correzione errori e gestione duplicati\n",
        "\n",
        "Alcuni nomi di marche di automobili sono errati, procediamo a correggerli."
      ]
    },
    {
      "cell_type": "code",
      "metadata": {
        "colab": {
          "base_uri": "https://localhost:8080/"
        },
        "id": "5ssBnjZS3o50",
        "outputId": "4e05e267-1a82-4144-e220-da2f97c02a95"
      },
      "source": [
        "data['CarName'] = data['CarName'].str.split(' ',expand=True) \n",
        "#estraggo il nome della marca di automobili di ogni modello\n",
        "\n",
        "data['CarName'].unique()"
      ],
      "execution_count": null,
      "outputs": [
        {
          "output_type": "execute_result",
          "data": {
            "text/plain": [
              "array(['alfa-romero', 'audi', 'bmw', 'chevrolet', 'dodge', 'honda',\n",
              "       'isuzu', 'jaguar', 'maxda', 'mazda', 'buick', 'mercury',\n",
              "       'mitsubishi', 'Nissan', 'nissan', 'peugeot', 'plymouth', 'porsche',\n",
              "       'porcshce', 'renault', 'saab', 'subaru', 'toyota', 'toyouta',\n",
              "       'vokswagen', 'volkswagen', 'vw', 'volvo'], dtype=object)"
            ]
          },
          "metadata": {},
          "execution_count": 13
        }
      ]
    },
    {
      "cell_type": "markdown",
      "metadata": {
        "id": "1cAY8Cap5CPE"
      },
      "source": [
        "Gli errori presenti sono:\n",
        "\n",
        "\n",
        "*   alfa-romero = alfa-romeo\n",
        "*   maxda = mazda\n",
        "*   Nissan = nissan\n",
        "*   porcshce = porsche\n",
        "*   toyouta = toyota\n",
        "*   vw = vokswagen = volkswagen\n",
        "\n",
        "\n"
      ]
    },
    {
      "cell_type": "code",
      "metadata": {
        "id": "xtAONGOn4_Mw"
      },
      "source": [
        "data['CarName'] = data['CarName'].replace({'alfa-romero': 'alfa-romeo', 'maxda': 'mazda',\n",
        "    'Nissan': 'nissan', 'porcshce': 'porsche', 'toyouta': 'toyota', \n",
        "    'vokswagen': 'volkswagen', 'vw': 'volkswagen'})"
      ],
      "execution_count": null,
      "outputs": []
    },
    {
      "cell_type": "code",
      "metadata": {
        "colab": {
          "base_uri": "https://localhost:8080/"
        },
        "id": "pjjC_gxt6VU3",
        "outputId": "18bffb68-0e13-495b-89c7-9d3656690ac4"
      },
      "source": [
        "data.duplicated().sum()"
      ],
      "execution_count": null,
      "outputs": [
        {
          "output_type": "execute_result",
          "data": {
            "text/plain": [
              "0"
            ]
          },
          "metadata": {},
          "execution_count": 15
        }
      ]
    },
    {
      "cell_type": "markdown",
      "metadata": {
        "id": "ZEGCCZSI6iOy"
      },
      "source": [
        "Non sono presenti istanze duplicate."
      ]
    },
    {
      "cell_type": "markdown",
      "metadata": {
        "id": "E8rq-18f8rU6"
      },
      "source": [
        "### Gestione variabili categoriche\n",
        "\n",
        "Possiamo osservare che alcune colonne contengono valori di tipo object, per cui conviene trasformarle in variabili categoriche al fine di occupare meno spazio in memoria."
      ]
    },
    {
      "cell_type": "code",
      "metadata": {
        "colab": {
          "base_uri": "https://localhost:8080/"
        },
        "id": "-lWXLEvn9ERB",
        "outputId": "dc4124bf-78d9-4716-d661-660c0253ba98"
      },
      "source": [
        "cat_cols = data.select_dtypes(include=['object']).columns\n",
        "for col in cat_cols:\n",
        "  data[col] = data[col].astype('category') \n",
        "\n",
        "data.info()"
      ],
      "execution_count": null,
      "outputs": [
        {
          "output_type": "stream",
          "name": "stdout",
          "text": [
            "<class 'pandas.core.frame.DataFrame'>\n",
            "Int64Index: 205 entries, 1 to 205\n",
            "Data columns (total 25 columns):\n",
            " #   Column            Non-Null Count  Dtype   \n",
            "---  ------            --------------  -----   \n",
            " 0   symboling         205 non-null    int64   \n",
            " 1   CarName           205 non-null    category\n",
            " 2   fueltype          205 non-null    category\n",
            " 3   aspiration        205 non-null    category\n",
            " 4   doornumber        205 non-null    category\n",
            " 5   carbody           205 non-null    category\n",
            " 6   drivewheel        205 non-null    category\n",
            " 7   enginelocation    205 non-null    category\n",
            " 8   wheelbase         205 non-null    float64 \n",
            " 9   carlength         205 non-null    float64 \n",
            " 10  carwidth          205 non-null    float64 \n",
            " 11  carheight         205 non-null    float64 \n",
            " 12  curbweight        205 non-null    int64   \n",
            " 13  enginetype        205 non-null    category\n",
            " 14  cylindernumber    205 non-null    category\n",
            " 15  enginesize        205 non-null    int64   \n",
            " 16  fuelsystem        205 non-null    category\n",
            " 17  boreratio         205 non-null    float64 \n",
            " 18  stroke            205 non-null    float64 \n",
            " 19  compressionratio  205 non-null    float64 \n",
            " 20  horsepower        205 non-null    int64   \n",
            " 21  peakrpm           205 non-null    int64   \n",
            " 22  citympg           205 non-null    int64   \n",
            " 23  highwaympg        205 non-null    int64   \n",
            " 24  price             205 non-null    float64 \n",
            "dtypes: category(10), float64(8), int64(7)\n",
            "memory usage: 30.2 KB\n"
          ]
        }
      ]
    },
    {
      "cell_type": "markdown",
      "metadata": {
        "id": "wo1ZQ3A3Im99"
      },
      "source": [
        "### **Esplorazione dei dati**"
      ]
    },
    {
      "cell_type": "markdown",
      "metadata": {
        "id": "hpEx54JKrbOV"
      },
      "source": [
        "### Numero di modelli"
      ]
    },
    {
      "cell_type": "code",
      "metadata": {
        "colab": {
          "base_uri": "https://localhost:8080/"
        },
        "id": "0S8r-A_jIumN",
        "outputId": "d6422240-fa5e-4970-f879-84cdd2394276"
      },
      "source": [
        "data[\"CarName\"].value_counts().plot.bar(figsize=(15, 4))\n",
        "plt.axes().set_title(\"Numero di modelli per marca\");\n",
        "plt.show()"
      ],
      "execution_count": null,
      "outputs": [
        {
          "output_type": "display_data",
          "data": {
            "image/png": "[encoded data removed]",
            "text/plain": [
              "<Figure size 1080x288 with 1 Axes>"
            ]
          },
          "metadata": {
            "needs_background": "light"
          }
        }
      ]
    },
    {
      "cell_type": "markdown",
      "metadata": {
        "id": "U3iwEQghKZBR"
      },
      "source": [
        "La marca con più modelli di automobili nel dataset è la Toyota, con più di 30 modelli, mentre la Mercury è quella con meno automobili."
      ]
    },
    {
      "cell_type": "code",
      "metadata": {
        "colab": {
          "base_uri": "https://localhost:8080/"
        },
        "id": "sxCGFAzUukbY",
        "outputId": "6df2226c-d6d3-43fb-f5c3-dd00263763fb"
      },
      "source": [
        "plt.figure(figsize=(18, 5))\n",
        "\n",
        "data['cylindernumber'].value_counts().plot.bar(plt.subplot(1,3,1))\n",
        "plt.title('Numero di modelli in base al numero di cilindri')\n",
        "\n",
        "data['drivewheel'].value_counts().plot.bar(plt.subplot(1,3,2))\n",
        "plt.title('Numero di modelli in base al numero di porte')\n",
        "\n",
        "data['carbody'].value_counts().plot.bar(plt.subplot(1,3,3))\n",
        "plt.title('Numero di modelli in base alla categoria di automobile')"
      ],
      "execution_count": null,
      "outputs": [
        {
          "output_type": "execute_result",
          "data": {
            "text/plain": [
              "Text(0.5, 1.0, 'Numero di modelli in base alla categoria di automobile')"
            ]
          },
          "metadata": {},
          "execution_count": 18
        },
        {
          "output_type": "display_data",
          "data": {
            "image/png": "[encoded data removed]",
            "text/plain": [
              "<Figure size 1296x360 with 3 Axes>"
            ]
          },
          "metadata": {
            "needs_background": "light"
          }
        }
      ]
    },
    {
      "cell_type": "markdown",
      "metadata": {
        "id": "jIcv8T0uzW01"
      },
      "source": [
        "Osserviamo che la maggior parte delle macchine sono con 4 cilindri, con trazione anteriore o posteriore, e della tipologia sedan o hatchback."
      ]
    },
    {
      "cell_type": "markdown",
      "metadata": {
        "id": "h4Wqd_KMsAWb"
      },
      "source": [
        "### Distribuzione dei prezzi"
      ]
    },
    {
      "cell_type": "code",
      "metadata": {
        "colab": {
          "base_uri": "https://localhost:8080/"
        },
        "id": "MhWkFAD3LPof",
        "outputId": "3283d7d6-7c01-4ef5-be43-6a1e3441aa38"
      },
      "source": [
        "plt.figure(figsize=(18,12))\n",
        "data[\"price\"].plot.hist(ax=plt.subplot(2, 2, 1),bins = 20);\n",
        "plt.title('Distribuzione prezzi')\n",
        "data[\"price\"].plot.box(ax=plt.subplot(2, 2, 2),showmeans=True)\n",
        "plt.title('Distribuzione prezzi')"
      ],
      "execution_count": null,
      "outputs": [
        {
          "output_type": "execute_result",
          "data": {
            "text/plain": [
              "Text(0.5, 1.0, 'Distribuzione prezzi')"
            ]
          },
          "metadata": {},
          "execution_count": 19
        },
        {
          "output_type": "display_data",
          "data": {
            "image/png": "[encoded data removed]",
            "text/plain": [
              "<Figure size 1296x864 with 2 Axes>"
            ]
          },
          "metadata": {
            "needs_background": "light"
          }
        }
      ]
    },
    {
      "cell_type": "markdown",
      "metadata": {
        "id": "YbGPnjf2NBZa"
      },
      "source": [
        "Osserviamo come il range dei prezzi vari dai 5000 ai 45000 dollari, con la maggior parte dei modelli aventi un prezzo compreso tra i 5000 e i 18000 dollari.\n",
        "Superati i 30000 dollari ci troviamo in presenza di valori outliers, che indicano una concentrazione molto bassa di modelli di vetture con un prezzo maggiore di quella soglia.\n"
      ]
    },
    {
      "cell_type": "markdown",
      "metadata": {
        "id": "eL3gpO7esQFl"
      },
      "source": [
        "### Analisi variabili categoriche"
      ]
    },
    {
      "cell_type": "code",
      "metadata": {
        "colab": {
          "base_uri": "https://localhost:8080/"
        },
        "id": "fWvP_aBloh6b",
        "outputId": "c78c2432-e9e8-4704-afd5-22768006e0d3"
      },
      "source": [
        "plt.figure(figsize=(20, 15))\n",
        "plt.subplot(3,3,1)\n",
        "sns.boxplot(x = 'doornumber', y = 'price', data = data)\n",
        "plt.subplot(3,3,2)\n",
        "sns.boxplot(x = 'fueltype', y = 'price', data = data)\n",
        "plt.subplot(3,3,3)\n",
        "sns.boxplot(x = 'aspiration', y = 'price', data = data)\n",
        "plt.subplot(3,3,4)\n",
        "sns.boxplot(x = 'carbody', y = 'price', data = data)\n",
        "plt.subplot(3,3,5)\n",
        "sns.boxplot(x = 'enginelocation', y = 'price', data = data)\n",
        "plt.subplot(3,3,6)\n",
        "sns.boxplot(x = 'drivewheel', y = 'price', data = data)\n",
        "plt.subplot(3,3,7)\n",
        "sns.boxplot(x = 'enginetype', y = 'price', data = data)\n",
        "plt.subplot(3,3,8)\n",
        "sns.boxplot(x = 'cylindernumber', y = 'price', data = data)\n",
        "plt.subplot(3,3,9)\n",
        "sns.boxplot(x = 'fuelsystem', y = 'price', data = data)\n",
        "plt.show()"
      ],
      "execution_count": null,
      "outputs": [
        {
          "output_type": "display_data",
          "data": {
            "image/png": "[encoded data removed]",
            "text/plain": [
              "<Figure size 1440x1080 with 9 Axes>"
            ]
          },
          "metadata": {
            "needs_background": "light"
          }
        }
      ]
    },
    {
      "cell_type": "markdown",
      "metadata": {
        "id": "5Nmeir6KqJyr"
      },
      "source": [
        "Dai seguenti boxplot calcolati sulle variabili categoriche in relazione al prezzo si nota che:\n",
        "\n",
        "\n",
        "*   Il numero di porte non influenza il prezzo in maniera significativa;\n",
        "*   Le macchine a diesel hanno in media un prezzo maggiore, ma le macchine con prezzo maggiore, ovvero i valori outliers, sono a benzina;\n",
        "*   Le macchine aspirate sono generalmente meno costose delle turbocompresse, ma presentano più outliers, quindi le poche macchine più costose sono aspirate;\n",
        "*   Le cabriolet sono generalmente più costose degli altri tipi, mentre sedan, wagon e hatchback risultano le meno costose;\n",
        "*   Le macchine con motore in posizione posteriore sono mediamente più costose di quelle con motore anteriore, le quali però sono presenti anche a prezzi alti, come evidenziano gli outliers;\n",
        "*   Le macchine con trazione anteriore e trazione integrale sono le meno costose, mentre le macchine a trazione posteriore sono più costose;\n",
        "*   Il numero dei cilindri è direttamente proporzionale al prezzo delle macchine nella maggior parte dei casi, come ci si aspetterebbe.\n",
        "\n"
      ]
    },
    {
      "cell_type": "markdown",
      "metadata": {
        "id": "4A09EXfosoqt"
      },
      "source": [
        "### Correlazione tra variabili numeriche"
      ]
    },
    {
      "cell_type": "code",
      "metadata": {
        "id": "dHM1hLdDARAD"
      },
      "source": [
        "def plot_correlation(dataset):\n",
        "    cmap = sns.diverging_palette(220, 10, as_cmap=True)\n",
        "    mask = np.zeros_like(dataset, dtype=np.bool)\n",
        "    mask[np.triu_indices_from(mask)] = True\n",
        "\n",
        "    f, ax = plt.subplots(figsize=(11, 9))\n",
        "    sns.heatmap(dataset, mask=mask, cmap=cmap, vmax=.3, center=0,annot = True, square=True, linewidths=.5, cbar_kws={\"shrink\": .5});"
      ],
      "execution_count": null,
      "outputs": []
    },
    {
      "cell_type": "code",
      "metadata": {
        "colab": {
          "base_uri": "https://localhost:8080/"
        },
        "id": "KjE6XSoD213K",
        "outputId": "0eb4ac00-a080-497c-e5dd-3a1c1a475c54"
      },
      "source": [
        "plot_correlation(data.corr())"
      ],
      "execution_count": null,
      "outputs": [
        {
          "output_type": "display_data",
          "data": {
            "image/png": "[encoded data removed]",
            "text/plain": [
              "<Figure size 792x648 with 2 Axes>"
            ]
          },
          "metadata": {
            "needs_background": "light"
          }
        }
      ]
    },
    {
      "cell_type": "markdown",
      "metadata": {
        "id": "h9scdoGFBGCX"
      },
      "source": [
        "Tramite la matrice di correlazione delle features, si evidenziano le seguenti correlazioni rilevanti:\n",
        "\n",
        "\n",
        "*   Ai fini della correlazione con la variabile target, rivestono un ruolo importante passo, lunghezza, larghezza, peso, dimensione del motore, alesaggio, cavalli, e consumi, mentre symboling, altezza, corsa, rapporto di compressione e picco di giri non sono correlate al prezzo;\n",
        "*   I cavalli sono direttamente proporzionali alle dimensioni della macchina e del motore, e inversamente proporzionali ai consumi;\n",
        "*   Le dimensioni sono direttamente correlate tra loro, quindi macchine lunghe tenderanno ad essere anche più larghe ed alte.\n",
        "\n"
      ]
    },
    {
      "cell_type": "markdown",
      "metadata": {
        "id": "BxMZ3W5gE_GY"
      },
      "source": [
        "### Selezione di feature rilevanti\n",
        "\n",
        "Dopo l'esplorazione dei dati, possiamo effettuare una prima selezione delle feature più rilevanti ai fini della previsione del prezzo:\n",
        "\n",
        "* fueltype\n",
        "* aspiration\n",
        "* carbody\n",
        "* drivewheel\n",
        "* enginelocation\n",
        "* wheelbase\n",
        "* carlength\n",
        "* carwidth\n",
        "* curbweight\n",
        "* enginetype\n",
        "* cylindernumber\n",
        "* enginesize\n",
        "* boreratio\n",
        "* horsepower\n",
        "* citympg\n",
        "* highwaympg\n",
        "\n"
      ]
    },
    {
      "cell_type": "code",
      "metadata": {
        "colab": {
          "base_uri": "https://localhost:8080/"
        },
        "id": "ifgXM0r1IQ1p",
        "outputId": "a7633ce0-95d8-46d9-d9b0-9ee61e68e088"
      },
      "source": [
        "old_data = data.copy()\n",
        "\n",
        "cols = ['price','enginetype','enginelocation','fueltype', 'aspiration','carbody','cylindernumber', 'drivewheel',\n",
        "            'wheelbase','curbweight', 'enginesize', 'boreratio','horsepower', \n",
        "                    'citympg','highwaympg', 'carlength','carwidth']\n",
        "\n",
        "cat_vars = [\"enginetype\",\"enginelocation\",\"fueltype\",\"aspiration\",\"carbody\",\"cylindernumber\",\"drivewheel\"]\n",
        "num_vars = [\"wheelbase\",\"curbweight\",\"enginesize\",\"boreratio\",\"horsepower\",\"citympg\",\"highwaympg\",\"carlength\",\"carwidth\"]\n",
        "\n",
        "data = data[cols]\n",
        "data.head()"
      ],
      "execution_count": null,
      "outputs": [
        {
          "output_type": "execute_result",
          "data": {
            "text/html": [
              "<div>\n",
              "<style scoped>\n",
              "    .dataframe tbody tr th:only-of-type {\n",
              "        vertical-align: middle;\n",
              "    }\n",
              "\n",
              "    .dataframe tbody tr th {\n",
              "        vertical-align: top;\n",
              "    }\n",
              "\n",
              "    .dataframe thead th {\n",
              "        text-align: right;\n",
              "    }\n",
              "</style>\n",
              "<table border=\"1\" class=\"dataframe\">\n",
              "  <thead>\n",
              "    <tr style=\"text-align: right;\">\n",
              "      <th></th>\n",
              "      <th>price</th>\n",
              "      <th>enginetype</th>\n",
              "      <th>enginelocation</th>\n",
              "      <th>fueltype</th>\n",
              "      <th>aspiration</th>\n",
              "      <th>carbody</th>\n",
              "      <th>cylindernumber</th>\n",
              "      <th>drivewheel</th>\n",
              "      <th>wheelbase</th>\n",
              "      <th>curbweight</th>\n",
              "      <th>enginesize</th>\n",
              "      <th>boreratio</th>\n",
              "      <th>horsepower</th>\n",
              "      <th>citympg</th>\n",
              "      <th>highwaympg</th>\n",
              "      <th>carlength</th>\n",
              "      <th>carwidth</th>\n",
              "    </tr>\n",
              "    <tr>\n",
              "      <th>car_ID</th>\n",
              "      <th></th>\n",
              "      <th></th>\n",
              "      <th></th>\n",
              "      <th></th>\n",
              "      <th></th>\n",
              "      <th></th>\n",
              "      <th></th>\n",
              "      <th></th>\n",
              "      <th></th>\n",
              "      <th></th>\n",
              "      <th></th>\n",
              "      <th></th>\n",
              "      <th></th>\n",
              "      <th></th>\n",
              "      <th></th>\n",
              "      <th></th>\n",
              "      <th></th>\n",
              "    </tr>\n",
              "  </thead>\n",
              "  <tbody>\n",
              "    <tr>\n",
              "      <th>1</th>\n",
              "      <td>13495.0</td>\n",
              "      <td>dohc</td>\n",
              "      <td>front</td>\n",
              "      <td>gas</td>\n",
              "      <td>std</td>\n",
              "      <td>convertible</td>\n",
              "      <td>four</td>\n",
              "      <td>rwd</td>\n",
              "      <td>88.6</td>\n",
              "      <td>2548</td>\n",
              "      <td>130</td>\n",
              "      <td>3.47</td>\n",
              "      <td>111</td>\n",
              "      <td>21</td>\n",
              "      <td>27</td>\n",
              "      <td>168.8</td>\n",
              "      <td>64.1</td>\n",
              "    </tr>\n",
              "    <tr>\n",
              "      <th>2</th>\n",
              "      <td>16500.0</td>\n",
              "      <td>dohc</td>\n",
              "      <td>front</td>\n",
              "      <td>gas</td>\n",
              "      <td>std</td>\n",
              "      <td>convertible</td>\n",
              "      <td>four</td>\n",
              "      <td>rwd</td>\n",
              "      <td>88.6</td>\n",
              "      <td>2548</td>\n",
              "      <td>130</td>\n",
              "      <td>3.47</td>\n",
              "      <td>111</td>\n",
              "      <td>21</td>\n",
              "      <td>27</td>\n",
              "      <td>168.8</td>\n",
              "      <td>64.1</td>\n",
              "    </tr>\n",
              "    <tr>\n",
              "      <th>3</th>\n",
              "      <td>16500.0</td>\n",
              "      <td>ohcv</td>\n",
              "      <td>front</td>\n",
              "      <td>gas</td>\n",
              "      <td>std</td>\n",
              "      <td>hatchback</td>\n",
              "      <td>six</td>\n",
              "      <td>rwd</td>\n",
              "      <td>94.5</td>\n",
              "      <td>2823</td>\n",
              "      <td>152</td>\n",
              "      <td>2.68</td>\n",
              "      <td>154</td>\n",
              "      <td>19</td>\n",
              "      <td>26</td>\n",
              "      <td>171.2</td>\n",
              "      <td>65.5</td>\n",
              "    </tr>\n",
              "    <tr>\n",
              "      <th>4</th>\n",
              "      <td>13950.0</td>\n",
              "      <td>ohc</td>\n",
              "      <td>front</td>\n",
              "      <td>gas</td>\n",
              "      <td>std</td>\n",
              "      <td>sedan</td>\n",
              "      <td>four</td>\n",
              "      <td>fwd</td>\n",
              "      <td>99.8</td>\n",
              "      <td>2337</td>\n",
              "      <td>109</td>\n",
              "      <td>3.19</td>\n",
              "      <td>102</td>\n",
              "      <td>24</td>\n",
              "      <td>30</td>\n",
              "      <td>176.6</td>\n",
              "      <td>66.2</td>\n",
              "    </tr>\n",
              "    <tr>\n",
              "      <th>5</th>\n",
              "      <td>17450.0</td>\n",
              "      <td>ohc</td>\n",
              "      <td>front</td>\n",
              "      <td>gas</td>\n",
              "      <td>std</td>\n",
              "      <td>sedan</td>\n",
              "      <td>five</td>\n",
              "      <td>4wd</td>\n",
              "      <td>99.4</td>\n",
              "      <td>2824</td>\n",
              "      <td>136</td>\n",
              "      <td>3.19</td>\n",
              "      <td>115</td>\n",
              "      <td>18</td>\n",
              "      <td>22</td>\n",
              "      <td>176.6</td>\n",
              "      <td>66.4</td>\n",
              "    </tr>\n",
              "  </tbody>\n",
              "</table>\n",
              "</div>"
            ],
            "text/plain": [
              "          price enginetype enginelocation  ... highwaympg carlength carwidth\n",
              "car_ID                                     ...                              \n",
              "1       13495.0       dohc          front  ...         27     168.8     64.1\n",
              "2       16500.0       dohc          front  ...         27     168.8     64.1\n",
              "3       16500.0       ohcv          front  ...         26     171.2     65.5\n",
              "4       13950.0        ohc          front  ...         30     176.6     66.2\n",
              "5       17450.0        ohc          front  ...         22     176.6     66.4\n",
              "\n",
              "[5 rows x 17 columns]"
            ]
          },
          "metadata": {},
          "execution_count": 23
        }
      ]
    },
    {
      "cell_type": "markdown",
      "metadata": {
        "id": "bRPXq_lV_GaG"
      },
      "source": [
        "### **Feature preprocessing**"
      ]
    },
    {
      "cell_type": "markdown",
      "metadata": {
        "id": "ZzVXJAqt_Kmk"
      },
      "source": [
        "### Importazione librerie"
      ]
    },
    {
      "cell_type": "code",
      "metadata": {
        "id": "XjZCs_V7-61t"
      },
      "source": [
        "from sklearn.model_selection import train_test_split\n",
        "from sklearn.pipeline import Pipeline\n",
        "from sklearn.preprocessing import StandardScaler\n",
        "from sklearn.linear_model import LinearRegression\n",
        "from sklearn.model_selection import GridSearchCV\n",
        "from sklearn.linear_model import Lasso\n",
        "from sklearn.linear_model import Ridge\n",
        "from sklearn.preprocessing import OneHotEncoder\n",
        "from sklearn.compose import ColumnTransformer\n",
        "from sklearn.model_selection import KFold\n",
        "from sklearn.model_selection import cross_val_score\n",
        "from sklearn.preprocessing import PolynomialFeatures\n",
        "from sklearn.kernel_ridge import KernelRidge\n",
        "from sklearn.model_selection import KFold\n",
        "\n",
        "pd.set_option('display.max_rows', None)\n",
        "pd.set_option('display.max_columns', None)\n",
        "pd.set_option('display.width', None)\n",
        "pd.set_option('display.max_colwidth', -1)"
      ],
      "execution_count": null,
      "outputs": []
    },
    {
      "cell_type": "markdown",
      "metadata": {
        "id": "JUM1GA8QkGMY"
      },
      "source": [
        "### Divisione training set e validation set\n",
        "\n",
        "Utilizzeremo il metodo hold-out per dividere training e validation set."
      ]
    },
    {
      "cell_type": "code",
      "metadata": {
        "id": "ejlBlskBCpQI"
      },
      "source": [
        "X = data.drop(columns=\"price\")\n",
        "y = data[\"price\"]\n",
        "X_train, X_val, y_train, y_val = train_test_split(X, y, test_size=1/3, random_state=42)"
      ],
      "execution_count": null,
      "outputs": []
    },
    {
      "cell_type": "markdown",
      "metadata": {
        "id": "6j1otyon3WbQ"
      },
      "source": [
        "### **Modellazione**\n",
        "\n",
        "Il nostro obiettivo è ottenere un modello di regressione che permetta di stimare il prezzo di entrata sul mercato di una vettura in base alle sue feature.\n"
      ]
    },
    {
      "cell_type": "markdown",
      "metadata": {
        "id": "3kwgieBokmQV"
      },
      "source": [
        "### Regressione LASSO\n",
        "\n",
        "La prima tipologia di regressione che vogliamo testare è la regressione LASSO, in quanto ci permette di eliminare le feature meno importanti ai fini della previsione, e quelle dipendenti dalle altre(multicollinearità).\n",
        "Per prima cosa effettuiamo una grid search sul parametro alpha della regressione LASSO, in modo da scegliere quello che massimizza lo score del modello, e controlliamo se la standardizzazione delle variabili numeriche influisce nel risultato."
      ]
    },
    {
      "cell_type": "code",
      "metadata": {
        "id": "OYVcTZVBEIHj",
        "colab": {
          "base_uri": "https://localhost:8080/"
        },
        "outputId": "02948750-5ac2-4807-d93a-8d84857c0ce7"
      },
      "source": [
        "model = Pipeline([\n",
        "      (\"preproc\", ColumnTransformer([\n",
        "      (\"numeric\", ..., num_vars),\n",
        "      (\"categorical\", OneHotEncoder(handle_unknown = \"ignore\"), cat_vars)\n",
        "    ])),\n",
        "    (\"regr\" , Lasso())\n",
        "])\n",
        "grid = {\n",
        "    \"regr__alpha\": [0.1,1,5,10,50],\n",
        "    \"preproc__numeric\": [\"passthrough\", StandardScaler()]\n",
        "    }\n",
        "gs = GridSearchCV(model, param_grid=grid, cv=5)\n",
        "gs.fit(X_train, y_train)\n",
        "pd.DataFrame(gs.cv_results_)[[\"mean_test_score\",\"params\"]]"
      ],
      "execution_count": null,
      "outputs": [
        {
          "output_type": "execute_result",
          "data": {
            "text/html": [
              "<div>\n",
              "<style scoped>\n",
              "    .dataframe tbody tr th:only-of-type {\n",
              "        vertical-align: middle;\n",
              "    }\n",
              "\n",
              "    .dataframe tbody tr th {\n",
              "        vertical-align: top;\n",
              "    }\n",
              "\n",
              "    .dataframe thead th {\n",
              "        text-align: right;\n",
              "    }\n",
              "</style>\n",
              "<table border=\"1\" class=\"dataframe\">\n",
              "  <thead>\n",
              "    <tr style=\"text-align: right;\">\n",
              "      <th></th>\n",
              "      <th>mean_test_score</th>\n",
              "      <th>params</th>\n",
              "    </tr>\n",
              "  </thead>\n",
              "  <tbody>\n",
              "    <tr>\n",
              "      <th>0</th>\n",
              "      <td>0.819950</td>\n",
              "      <td>{'preproc__numeric': 'passthrough', 'regr__alpha': 0.1}</td>\n",
              "    </tr>\n",
              "    <tr>\n",
              "      <th>1</th>\n",
              "      <td>0.823248</td>\n",
              "      <td>{'preproc__numeric': 'passthrough', 'regr__alpha': 1}</td>\n",
              "    </tr>\n",
              "    <tr>\n",
              "      <th>2</th>\n",
              "      <td>0.833825</td>\n",
              "      <td>{'preproc__numeric': 'passthrough', 'regr__alpha': 5}</td>\n",
              "    </tr>\n",
              "    <tr>\n",
              "      <th>3</th>\n",
              "      <td>0.842291</td>\n",
              "      <td>{'preproc__numeric': 'passthrough', 'regr__alpha': 10}</td>\n",
              "    </tr>\n",
              "    <tr>\n",
              "      <th>4</th>\n",
              "      <td>0.833571</td>\n",
              "      <td>{'preproc__numeric': 'passthrough', 'regr__alpha': 50}</td>\n",
              "    </tr>\n",
              "    <tr>\n",
              "      <th>5</th>\n",
              "      <td>0.820010</td>\n",
              "      <td>{'preproc__numeric': StandardScaler(copy=True, with_mean=True, with_std=True), 'regr__alpha': 0.1}</td>\n",
              "    </tr>\n",
              "    <tr>\n",
              "      <th>6</th>\n",
              "      <td>0.823650</td>\n",
              "      <td>{'preproc__numeric': StandardScaler(copy=True, with_mean=True, with_std=True), 'regr__alpha': 1}</td>\n",
              "    </tr>\n",
              "    <tr>\n",
              "      <th>7</th>\n",
              "      <td>0.835336</td>\n",
              "      <td>{'preproc__numeric': StandardScaler(copy=True, with_mean=True, with_std=True), 'regr__alpha': 5}</td>\n",
              "    </tr>\n",
              "    <tr>\n",
              "      <th>8</th>\n",
              "      <td>0.845361</td>\n",
              "      <td>{'preproc__numeric': StandardScaler(copy=True, with_mean=True, with_std=True), 'regr__alpha': 10}</td>\n",
              "    </tr>\n",
              "    <tr>\n",
              "      <th>9</th>\n",
              "      <td>0.834619</td>\n",
              "      <td>{'preproc__numeric': StandardScaler(copy=True, with_mean=True, with_std=True), 'regr__alpha': 50}</td>\n",
              "    </tr>\n",
              "  </tbody>\n",
              "</table>\n",
              "</div>"
            ],
            "text/plain": [
              "   mean_test_score  \\\n",
              "0  0.819950          \n",
              "1  0.823248          \n",
              "2  0.833825          \n",
              "3  0.842291          \n",
              "4  0.833571          \n",
              "5  0.820010          \n",
              "6  0.823650          \n",
              "7  0.835336          \n",
              "8  0.845361          \n",
              "9  0.834619          \n",
              "\n",
              "                                                                                               params  \n",
              "0  {'preproc__numeric': 'passthrough', 'regr__alpha': 0.1}                                             \n",
              "1  {'preproc__numeric': 'passthrough', 'regr__alpha': 1}                                               \n",
              "2  {'preproc__numeric': 'passthrough', 'regr__alpha': 5}                                               \n",
              "3  {'preproc__numeric': 'passthrough', 'regr__alpha': 10}                                              \n",
              "4  {'preproc__numeric': 'passthrough', 'regr__alpha': 50}                                              \n",
              "5  {'preproc__numeric': StandardScaler(copy=True, with_mean=True, with_std=True), 'regr__alpha': 0.1}  \n",
              "6  {'preproc__numeric': StandardScaler(copy=True, with_mean=True, with_std=True), 'regr__alpha': 1}    \n",
              "7  {'preproc__numeric': StandardScaler(copy=True, with_mean=True, with_std=True), 'regr__alpha': 5}    \n",
              "8  {'preproc__numeric': StandardScaler(copy=True, with_mean=True, with_std=True), 'regr__alpha': 10}   \n",
              "9  {'preproc__numeric': StandardScaler(copy=True, with_mean=True, with_std=True), 'regr__alpha': 50}   "
            ]
          },
          "metadata": {},
          "execution_count": 26
        }
      ]
    },
    {
      "cell_type": "markdown",
      "metadata": {
        "id": "Ll2VPghV-9Jv"
      },
      "source": [
        "Il valore 10 risulta il migliore per il parametro alpha, per cui addestreremo il modello con esso.\n",
        "La standardizzazione delle feature numeriche non influsice in maniera significativa nello score, per cui eviteremo di utilizzarla d'ora in poi."
      ]
    },
    {
      "cell_type": "code",
      "metadata": {
        "id": "FWKnTI8wBTpH",
        "colab": {
          "base_uri": "https://localhost:8080/"
        },
        "outputId": "04db41b1-0b9e-4ed4-f140-60e0b302dea8"
      },
      "source": [
        "model = Pipeline([\n",
        "      (\"preproc\", ColumnTransformer([\n",
        "        (\"numeric\", \"passthrough\", num_vars),\n",
        "        (\"categorical\", OneHotEncoder(handle_unknown = \"ignore\"), cat_vars),\n",
        "    ])),\n",
        "    (\"regr\" , Lasso(alpha=10))\n",
        "])\n",
        "model.fit(X_train,y_train)\n",
        "cat_vars_transformed = model.named_steps[\"preproc\"].named_transformers_[\"categorical\"].get_feature_names(cat_vars).tolist()\n",
        "coefs = pd.Series(model.named_steps[\"regr\"].coef_,index= num_vars + cat_vars_transformed)\n",
        "coefs\n"
      ],
      "execution_count": null,
      "outputs": [
        {
          "output_type": "execute_result",
          "data": {
            "text/plain": [
              "wheelbase                2.474501e+02\n",
              "curbweight               2.775909e+00\n",
              "enginesize               5.339376e+01\n",
              "boreratio               -2.579721e+03\n",
              "horsepower               2.857851e+01\n",
              "citympg                  1.353212e+01\n",
              "highwaympg              -7.296782e+01\n",
              "carlength               -1.812106e+01\n",
              "carwidth                 5.643024e+02\n",
              "enginetype_dohc          0.000000e+00\n",
              "enginetype_dohcv        -1.630854e+02\n",
              "enginetype_l            -3.275384e+03\n",
              "enginetype_ohc           6.115473e+02\n",
              "enginetype_ohcf          5.220939e+02\n",
              "enginetype_ohcv         -1.720016e+03\n",
              "enginetype_rotor         3.016766e+03\n",
              "enginelocation_front    -1.308139e+04\n",
              "enginelocation_rear      3.673816e-10\n",
              "fueltype_diesel         -0.000000e+00\n",
              "fueltype_gas             0.000000e+00\n",
              "aspiration_std          -6.690876e+02\n",
              "aspiration_turbo         0.000000e+00\n",
              "carbody_convertible      3.219073e+03\n",
              "carbody_hardtop          1.093441e+03\n",
              "carbody_hatchback       -1.071509e+03\n",
              "carbody_sedan           -0.000000e+00\n",
              "carbody_wagon           -2.324032e+03\n",
              "cylindernumber_eight     5.735594e+03\n",
              "cylindernumber_five     -0.000000e+00\n",
              "cylindernumber_four     -1.208112e+03\n",
              "cylindernumber_six      -4.060440e+02\n",
              "cylindernumber_twelve    0.000000e+00\n",
              "cylindernumber_two       4.549735e+02\n",
              "drivewheel_4wd           0.000000e+00\n",
              "drivewheel_fwd          -1.258054e+03\n",
              "drivewheel_rwd           0.000000e+00\n",
              "dtype: float64"
            ]
          },
          "metadata": {},
          "execution_count": 27
        }
      ]
    },
    {
      "cell_type": "markdown",
      "metadata": {
        "id": "2-bYt6B6fFUL"
      },
      "source": [
        "Possiamo osservare le feature più e meno rilevanti ai fini della previsione.\n",
        "Per esempio è possibile scartare le colonne citympg, carlength e fueltype."
      ]
    },
    {
      "cell_type": "code",
      "metadata": {
        "id": "UEebUO4MeFO1"
      },
      "source": [
        "cat_vars = [\"enginetype\",\"enginelocation\",\"aspiration\",\"carbody\",\"cylindernumber\",\"drivewheel\"]\n",
        "num_vars = [\"wheelbase\",\"curbweight\",\"enginesize\",\"boreratio\",\"horsepower\",\"highwaympg\",\"carwidth\"]\n",
        "X = data.drop(columns=[\"citympg\",\"carlength\",\"fueltype\"])\n",
        "X_train, X_val, y_train, y_val = train_test_split(X, y, test_size=1/3, random_state=42)"
      ],
      "execution_count": null,
      "outputs": []
    },
    {
      "cell_type": "markdown",
      "metadata": {
        "id": "qD0_8acXaO51"
      },
      "source": [
        "### Regressione Ridge"
      ]
    },
    {
      "cell_type": "markdown",
      "metadata": {
        "id": "kXF7RoXJh1oA"
      },
      "source": [
        "Testiamo il modello applicando la regolarizzazione L2, per evitare che i coefficienti crescano troppo."
      ]
    },
    {
      "cell_type": "code",
      "metadata": {
        "id": "S_oFPbSKaOXI",
        "colab": {
          "base_uri": "https://localhost:8080/"
        },
        "outputId": "65f6a7f5-a534-46e1-df42-654f8f3b9607"
      },
      "source": [
        "model = Pipeline([\n",
        "      (\"preproc\", ColumnTransformer([\n",
        "      (\"numeric\", \"passthrough\", num_vars),\n",
        "      (\"categorical\", OneHotEncoder(handle_unknown = \"ignore\"), cat_vars)\n",
        "    ])),\n",
        "    (\"regr\" , Ridge())\n",
        "])\n",
        "grid = {\n",
        "    \"regr__alpha\": [0.01,0.1,1,5,10,100]\n",
        "    }\n",
        "gs = GridSearchCV(model, param_grid=grid, cv=5)\n",
        "gs.fit(X_train, y_train)\n",
        "pd.DataFrame(gs.cv_results_)[[\"mean_test_score\",\"params\"]]"
      ],
      "execution_count": null,
      "outputs": [
        {
          "output_type": "execute_result",
          "data": {
            "text/html": [
              "<div>\n",
              "<style scoped>\n",
              "    .dataframe tbody tr th:only-of-type {\n",
              "        vertical-align: middle;\n",
              "    }\n",
              "\n",
              "    .dataframe tbody tr th {\n",
              "        vertical-align: top;\n",
              "    }\n",
              "\n",
              "    .dataframe thead th {\n",
              "        text-align: right;\n",
              "    }\n",
              "</style>\n",
              "<table border=\"1\" class=\"dataframe\">\n",
              "  <thead>\n",
              "    <tr style=\"text-align: right;\">\n",
              "      <th></th>\n",
              "      <th>mean_test_score</th>\n",
              "      <th>params</th>\n",
              "    </tr>\n",
              "  </thead>\n",
              "  <tbody>\n",
              "    <tr>\n",
              "      <th>0</th>\n",
              "      <td>0.836871</td>\n",
              "      <td>{'regr__alpha': 0.01}</td>\n",
              "    </tr>\n",
              "    <tr>\n",
              "      <th>1</th>\n",
              "      <td>0.846839</td>\n",
              "      <td>{'regr__alpha': 0.1}</td>\n",
              "    </tr>\n",
              "    <tr>\n",
              "      <th>2</th>\n",
              "      <td>0.859987</td>\n",
              "      <td>{'regr__alpha': 1}</td>\n",
              "    </tr>\n",
              "    <tr>\n",
              "      <th>3</th>\n",
              "      <td>0.840321</td>\n",
              "      <td>{'regr__alpha': 5}</td>\n",
              "    </tr>\n",
              "    <tr>\n",
              "      <th>4</th>\n",
              "      <td>0.828135</td>\n",
              "      <td>{'regr__alpha': 10}</td>\n",
              "    </tr>\n",
              "    <tr>\n",
              "      <th>5</th>\n",
              "      <td>0.805897</td>\n",
              "      <td>{'regr__alpha': 100}</td>\n",
              "    </tr>\n",
              "  </tbody>\n",
              "</table>\n",
              "</div>"
            ],
            "text/plain": [
              "   mean_test_score                 params\n",
              "0  0.836871         {'regr__alpha': 0.01}\n",
              "1  0.846839         {'regr__alpha': 0.1} \n",
              "2  0.859987         {'regr__alpha': 1}   \n",
              "3  0.840321         {'regr__alpha': 5}   \n",
              "4  0.828135         {'regr__alpha': 10}  \n",
              "5  0.805897         {'regr__alpha': 100} "
            ]
          },
          "metadata": {},
          "execution_count": 29
        }
      ]
    },
    {
      "cell_type": "markdown",
      "metadata": {
        "id": "8Jnnyuy6iM2L"
      },
      "source": [
        "Osserviamo che al variare di alpha, che regola il peso della regolarizzazione, non abbiamo variazioni significanti dello score del modello, segno che la regolarizzazione non è essenziale, per cui un modello di regressione lineare dovrebbe garantire buoni risultati.\n",
        "\n",
        "La regolarizzazione L2 infatti ha efficacia maggiore se utilizzata per modelli di regressione polinomiale, dove il valore dei coefficienti agli estremi tendere a crescere molto all'aumentare del grado del modello."
      ]
    },
    {
      "cell_type": "markdown",
      "metadata": {
        "id": "rzlaccv6iJQx"
      },
      "source": [
        "### Regressione lineare"
      ]
    },
    {
      "cell_type": "code",
      "metadata": {
        "id": "KJTTBXfffqPe",
        "colab": {
          "base_uri": "https://localhost:8080/"
        },
        "outputId": "99757c5e-9929-43b8-a9c2-c12949eab7ab"
      },
      "source": [
        "linear = Pipeline([\n",
        "      (\"preproc\", ColumnTransformer([\n",
        "      (\"numeric\", \"passthrough\", num_vars),\n",
        "      (\"categorical\", OneHotEncoder(handle_unknown = \"ignore\"), cat_vars)\n",
        "    ])),\n",
        "    (\"regr\" , LinearRegression())\n",
        "])\n",
        "linear.fit(X_train, y_train)\n",
        "linear.score(X_val,y_val)"
      ],
      "execution_count": null,
      "outputs": [
        {
          "output_type": "execute_result",
          "data": {
            "text/plain": [
              "0.8455028060856377"
            ]
          },
          "metadata": {},
          "execution_count": 30
        }
      ]
    },
    {
      "cell_type": "markdown",
      "metadata": {
        "id": "38IZmCMpioAF"
      },
      "source": [
        "Come detto in precedenza, la semplice regressione lineare garantisce buoni risultati se confrontati con la regressione con regolarizzazione."
      ]
    },
    {
      "cell_type": "markdown",
      "metadata": {
        "id": "s33vCGxHpYTM"
      },
      "source": [
        "### Regressione con kernel polinomiale\n",
        "La regressione polinomiale comporta l'aggiunta di molte variabili, tante più quante sono quelle di input e più è alto il grado del polinomio, andando a peggiorare in maniera esponenziale le performance del modello.\n",
        "\n",
        "Le funzioni kernel permettono di calcolare gli stessi prodotti della regressione polinomiale senza l'aggiunta di variabili, andando a migliorare significativamente i tempi di calcolo del modello, tenendo conto però che la complessità cresce all'aumentare del numero delle istanze.\n",
        "\n",
        "Nel nostro caso è la soluzione ideale da testare, in quanto abbiamo un dataset con poche istanze e tante feature."
      ]
    },
    {
      "cell_type": "code",
      "metadata": {
        "id": "yEhIglxbpnMi",
        "colab": {
          "base_uri": "https://localhost:8080/"
        },
        "outputId": "5cac2523-9f12-43a2-8dfb-9aea0553532c"
      },
      "source": [
        "model = Pipeline([\n",
        "      (\"preproc\", ColumnTransformer([\n",
        "        (\"numeric\", \"passthrough\", num_vars),\n",
        "        (\"categorical\", OneHotEncoder(handle_unknown = \"ignore\"), cat_vars)\n",
        "      ])),\n",
        "     (\"regr\",  KernelRidge(kernel=\"poly\"))\n",
        "])\n",
        "grid = {\n",
        "    \"regr__degree\": range(2, 10),\n",
        "    \"regr__alpha\": [0.01, 0.1, 1,5, 10],\n",
        "}\n",
        "gs = GridSearchCV(model, grid, cv=5)\n",
        "gs.fit(X_train, y_train)\n",
        "gs.score(X_val,y_val)"
      ],
      "execution_count": null,
      "outputs": [
        {
          "output_type": "execute_result",
          "data": {
            "text/plain": [
              "0.8528763597409795"
            ]
          },
          "metadata": {},
          "execution_count": 31
        }
      ]
    },
    {
      "cell_type": "code",
      "metadata": {
        "id": "3LwaTFmijrgL",
        "colab": {
          "base_uri": "https://localhost:8080/"
        },
        "outputId": "f47519f6-1f27-486a-ee48-0b036ca67a62"
      },
      "source": [
        "gs.best_params_"
      ],
      "execution_count": null,
      "outputs": [
        {
          "output_type": "execute_result",
          "data": {
            "text/plain": [
              "{'regr__alpha': 10, 'regr__degree': 2}"
            ]
          },
          "metadata": {},
          "execution_count": 32
        }
      ]
    },
    {
      "cell_type": "markdown",
      "metadata": {
        "id": "0nV1tGMPujnx"
      },
      "source": [
        "Lo score della regressione con kernel polinomiale è in linea con quanto visto con i metodi di regressione lineare.\n",
        "\n",
        "Proviamo ora ad applicare la standardizzazione delle feature numeriche."
      ]
    },
    {
      "cell_type": "code",
      "metadata": {
        "colab": {
          "base_uri": "https://localhost:8080/"
        },
        "id": "ea_Sitbr9fcy",
        "outputId": "1f3c7652-b2dd-479c-99b0-23884311cef1"
      },
      "source": [
        "model = Pipeline([\n",
        "      (\"preproc\", ColumnTransformer([\n",
        "        (\"numeric\", StandardScaler(), num_vars),\n",
        "        (\"categorical\", OneHotEncoder(handle_unknown = \"ignore\"), cat_vars)\n",
        "      ])),\n",
        "     (\"regr\",  KernelRidge(kernel=\"poly\"))\n",
        "])\n",
        "grid = {\n",
        "    \"regr__degree\": range(2, 10),\n",
        "    \"regr__alpha\": [0.01, 0.1, 1,5, 10],\n",
        "}\n",
        "gs = GridSearchCV(model, grid, cv=5)\n",
        "gs.fit(X_train, y_train)\n",
        "gs.score(X_val,y_val)"
      ],
      "execution_count": null,
      "outputs": [
        {
          "output_type": "execute_result",
          "data": {
            "text/plain": [
              "0.898452420021097"
            ]
          },
          "metadata": {},
          "execution_count": 33
        }
      ]
    },
    {
      "cell_type": "code",
      "metadata": {
        "colab": {
          "base_uri": "https://localhost:8080/"
        },
        "id": "GZ2lqqRB9u4n",
        "outputId": "b31cd7b9-4678-46a0-8622-f8b409a85de7"
      },
      "source": [
        "gs.best_params_"
      ],
      "execution_count": null,
      "outputs": [
        {
          "output_type": "execute_result",
          "data": {
            "text/plain": [
              "{'regr__alpha': 0.1, 'regr__degree': 2}"
            ]
          },
          "metadata": {},
          "execution_count": 34
        }
      ]
    },
    {
      "cell_type": "markdown",
      "metadata": {
        "id": "2PselTB09oPL"
      },
      "source": [
        "Vediamo un interessante miglioramento dello score del modello, e un cambiamento del parametro alpha migliore, da 10 a 0.1."
      ]
    },
    {
      "cell_type": "markdown",
      "metadata": {
        "id": "xEPNKCCDqEiQ"
      },
      "source": [
        "### Regressione con kernel RBF"
      ]
    },
    {
      "cell_type": "code",
      "metadata": {
        "id": "3yFBr2MVh824",
        "colab": {
          "base_uri": "https://localhost:8080/"
        },
        "outputId": "8b76397c-6d5b-4873-f294-fecfee669844"
      },
      "source": [
        "model = Pipeline([\n",
        "      (\"preproc\", ColumnTransformer([\n",
        "        (\"numeric\", StandardScaler(), num_vars),\n",
        "        (\"categorical\", OneHotEncoder(handle_unknown = \"ignore\"), cat_vars)\n",
        "      ])),\n",
        "     (\"regr\",  KernelRidge(kernel=\"rbf\"))\n",
        "])\n",
        "grid = {\n",
        "    \"regr__gamma\": [0.01, 0.1,1,10],\n",
        "    \"regr__alpha\": [0.01, 0.1, 1,5, 10],\n",
        "}\n",
        "gs = GridSearchCV(model, grid, cv=5)\n",
        "gs.fit(X_train, y_train)\n",
        "gs.score(X_val, y_val)\n"
      ],
      "execution_count": null,
      "outputs": [
        {
          "output_type": "execute_result",
          "data": {
            "text/plain": [
              "0.9064628777719846"
            ]
          },
          "metadata": {},
          "execution_count": 35
        }
      ]
    },
    {
      "cell_type": "code",
      "metadata": {
        "id": "nf8ByXAUsFXL",
        "colab": {
          "base_uri": "https://localhost:8080/"
        },
        "outputId": "12eae876-212d-4d74-dd61-9ddb4e2bca15"
      },
      "source": [
        "gs.best_params_"
      ],
      "execution_count": null,
      "outputs": [
        {
          "output_type": "execute_result",
          "data": {
            "text/plain": [
              "{'regr__alpha': 0.01, 'regr__gamma': 0.01}"
            ]
          },
          "metadata": {},
          "execution_count": 36
        }
      ]
    },
    {
      "cell_type": "markdown",
      "metadata": {
        "id": "yLME6G4pu2YZ"
      },
      "source": [
        "La regressione con kernel RBF migliora leggermente lo score rispetto al kernel polinomiale.\n",
        "\n",
        "Facciamo ora un test considerando il dataset con tutte le feature, per avere una conferma che le feature scartate erano non rilevanti."
      ]
    },
    {
      "cell_type": "code",
      "metadata": {
        "id": "bWTzRVTK1Uw4"
      },
      "source": [
        "old_X = old_data.drop(columns=[\"CarName\",\"price\"])\n",
        "old_X_train, old_X_val, y_train, y_val = train_test_split(old_X, y, test_size=1/3, random_state=42)\n",
        "old_X.columns\n",
        "\n",
        "old_cat_vars = [\"fuelsystem\", \"enginetype\",\"enginelocation\",\"fueltype\",\"aspiration\",\"carbody\",\"cylindernumber\",\"drivewheel\",\"doornumber\"]\n",
        "old_num_vars = [\"stroke\",\"compressionratio\",\"symboling\",\"wheelbase\",\"curbweight\",\"enginesize\",\n",
        "                \"boreratio\",\"horsepower\",\"peakrpm\",\"citympg\",\"highwaympg\",\"carlength\",\"carwidth\",\"carheight\"]"
      ],
      "execution_count": null,
      "outputs": []
    },
    {
      "cell_type": "code",
      "metadata": {
        "id": "1JGzN9Zs0v8D",
        "colab": {
          "base_uri": "https://localhost:8080/"
        },
        "outputId": "2c90ddf2-7d44-41d0-f9ec-7bb4521365b0"
      },
      "source": [
        "model = Pipeline([\n",
        "      (\"preproc\", ColumnTransformer([\n",
        "        (\"numeric\", StandardScaler(), old_num_vars),\n",
        "        (\"categorical\", OneHotEncoder(handle_unknown = \"ignore\"), old_cat_vars)\n",
        "      ])),\n",
        "     (\"regr\",  KernelRidge(kernel=\"rbf\"))\n",
        "])\n",
        "grid = {\n",
        "    \"regr__gamma\": [0.01, 0.1,1,10],\n",
        "    \"regr__alpha\": [0.01, 0.1, 1,5, 10],\n",
        "}\n",
        "gs = GridSearchCV(model, grid, cv=5)\n",
        "gs.fit(old_X_train, y_train)\n",
        "gs.score(old_X_val, y_val)"
      ],
      "execution_count": null,
      "outputs": [
        {
          "output_type": "execute_result",
          "data": {
            "text/plain": [
              "0.8909330225294537"
            ]
          },
          "metadata": {},
          "execution_count": 38
        }
      ]
    },
    {
      "cell_type": "markdown",
      "metadata": {
        "id": "MvHOL0NkKtQy"
      },
      "source": [
        "L'accuratezza del modello rimane pressochè invariata, per cui possiamo stabilire che le feature scartate non erano determinanti ai fini della previsione della variabile target."
      ]
    },
    {
      "cell_type": "markdown",
      "metadata": {
        "id": "QNaojifxzcc-"
      },
      "source": [
        "### Regressione con alberi decisionali"
      ]
    },
    {
      "cell_type": "code",
      "metadata": {
        "colab": {
          "base_uri": "https://localhost:8080/"
        },
        "id": "4LDI8a6_zlYi",
        "outputId": "f086ac9e-c2e9-4856-f425-0914d56f24c7"
      },
      "source": [
        "from sklearn.tree import DecisionTreeRegressor\n",
        "model = Pipeline([\n",
        "      (\"preproc\", ColumnTransformer([\n",
        "        (\"numeric\", StandardScaler(), num_vars),\n",
        "        (\"categorical\", OneHotEncoder(handle_unknown = \"ignore\"), cat_vars)\n",
        "      ])),\n",
        "     (\"regr\",  DecisionTreeRegressor(random_state=42))\n",
        "])\n",
        "grid = {\n",
        "    \"regr__max_depth\": [3, 5, 10, None],\n",
        "    \"regr__min_samples_split\": [2, 0.02, 0.05, 0.1]\n",
        "}\n",
        "kf = KFold(3, shuffle=True, random_state=42)\n",
        "gs = GridSearchCV(model, grid, cv=kf)\n",
        "gs.fit(X_train, y_train)\n",
        "gs.best_params_"
      ],
      "execution_count": null,
      "outputs": [
        {
          "output_type": "execute_result",
          "data": {
            "text/plain": [
              "{'regr__max_depth': 3, 'regr__min_samples_split': 0.1}"
            ]
          },
          "metadata": {},
          "execution_count": 39
        }
      ]
    },
    {
      "cell_type": "code",
      "metadata": {
        "colab": {
          "base_uri": "https://localhost:8080/"
        },
        "id": "qHwR1_Dmz5rj",
        "outputId": "258c3b99-b7d2-47aa-ac4f-28e027a4be41"
      },
      "source": [
        "gs.score(X_val, y_val)"
      ],
      "execution_count": null,
      "outputs": [
        {
          "output_type": "execute_result",
          "data": {
            "text/plain": [
              "0.8484083173328367"
            ]
          },
          "metadata": {},
          "execution_count": 40
        }
      ]
    },
    {
      "cell_type": "markdown",
      "metadata": {
        "id": "R9E0J7D87S76"
      },
      "source": [
        "La regressione con alberi decisionali risulta della stessa efficacia dei modelli di regressione lineari."
      ]
    },
    {
      "cell_type": "markdown",
      "metadata": {
        "id": "L480FHNoLYqY"
      },
      "source": [
        "### **Valutazione dei modelli migliori**\n",
        "\n",
        "Andiamo a valutare con attenzione maggiore i modelli che ci hanno fornito lo score migliore."
      ]
    },
    {
      "cell_type": "markdown",
      "metadata": {
        "id": "8E1QY1_CNFFh"
      },
      "source": [
        "### Definizione funzioni"
      ]
    },
    {
      "cell_type": "code",
      "metadata": {
        "id": "JS2ka8VWdD9_"
      },
      "source": [
        "from sklearn.metrics import mean_squared_error\n",
        "from sklearn.metrics import r2_score\n",
        "\n",
        "def relative_error(y_true, y_pred):\n",
        "    return np.mean(np.abs((y_true - y_pred) / y_true))\n",
        "\n",
        "def print_eval(X, y, model):\n",
        "    preds = model.predict(X)\n",
        "    print(\"   Mean squared error: {:.5}\".format(mean_squared_error(y, preds)))\n",
        "    print(\"       Relative error: {:.5%}\".format(relative_error(y, preds)))\n",
        "    print(\"R-squared coefficient: {:.5}\".format(r2_score(y, preds)))"
      ],
      "execution_count": null,
      "outputs": []
    },
    {
      "cell_type": "markdown",
      "metadata": {
        "id": "K7bdqU-aNX9u"
      },
      "source": [
        "### Valutazione modelli\n",
        "\n",
        "Scegliamo di valutare il modello ridge per i modelli lineari, e i due modelli basati sulle funzioni kernel."
      ]
    },
    {
      "cell_type": "code",
      "metadata": {
        "id": "kDowmCfpQmeC"
      },
      "source": [
        "rbf = Pipeline([\n",
        "      (\"preproc\", ColumnTransformer([\n",
        "        (\"numeric\", StandardScaler(), num_vars),\n",
        "        (\"categorical\", OneHotEncoder(handle_unknown = \"ignore\"), cat_vars)\n",
        "      ])),\n",
        "     (\"regr\",  KernelRidge(kernel=\"rbf\",alpha=0.01,gamma=0.01))\n",
        "])\n",
        "rbf.fit(X_train,y_train);\n",
        "\n",
        "poly = Pipeline([\n",
        "      (\"preproc\", ColumnTransformer([\n",
        "        (\"numeric\", StandardScaler(), num_vars),\n",
        "        (\"categorical\", OneHotEncoder(handle_unknown = \"ignore\"), cat_vars)\n",
        "      ])),\n",
        "     (\"regr\",  KernelRidge(kernel=\"poly\",alpha=0.1,degree=2))\n",
        "])\n",
        "poly.fit(X_train,y_train);"
      ],
      "execution_count": null,
      "outputs": []
    },
    {
      "cell_type": "code",
      "metadata": {
        "colab": {
          "base_uri": "https://localhost:8080/"
        },
        "id": "-E5hXd0tQL6W",
        "outputId": "962e0e33-2c8b-4a12-abc8-d638b0004109"
      },
      "source": [
        "print(\"Linear model train\")\n",
        "print_eval(X_train, y_train, linear)\n",
        "print(\"Linear model val\")\n",
        "print_eval(X_val, y_val, linear)\n",
        "\n",
        "print(\"polynomial model train\")\n",
        "print_eval(X_train, y_train, poly)\n",
        "print(\"polynomial model val\")\n",
        "print_eval(X_val, y_val, poly)\n",
        "\n",
        "print(\"RBF model train\")\n",
        "print_eval(X_train, y_train, rbf)\n",
        "print(\"RBF model val\")\n",
        "print_eval(X_val, y_val, rbf)"
      ],
      "execution_count": null,
      "outputs": [
        {
          "output_type": "stream",
          "name": "stdout",
          "text": [
            "Linear model train\n",
            "   Mean squared error: 3.9317e+06\n",
            "       Relative error: 11.61574%\n",
            "R-squared coefficient: 0.93696\n",
            "Linear model val\n",
            "   Mean squared error: 1.0146e+07\n",
            "       Relative error: 19.69825%\n",
            "R-squared coefficient: 0.8455\n",
            "polynomial model train\n",
            "   Mean squared error: 2.3783e+06\n",
            "       Relative error: 9.32830%\n",
            "R-squared coefficient: 0.96187\n",
            "polynomial model val\n",
            "   Mean squared error: 6.6688e+06\n",
            "       Relative error: 13.91137%\n",
            "R-squared coefficient: 0.89845\n",
            "RBF model train\n",
            "   Mean squared error: 1.8978e+06\n",
            "       Relative error: 8.56939%\n",
            "R-squared coefficient: 0.96957\n",
            "RBF model val\n",
            "   Mean squared error: 6.1427e+06\n",
            "       Relative error: 14.44853%\n",
            "R-squared coefficient: 0.90646\n"
          ]
        }
      ]
    },
    {
      "cell_type": "markdown",
      "metadata": {
        "id": "mk96GeMYxWXx"
      },
      "source": [
        "Dai dati si evince come i modelli non lineari siano migliori del modello lineare.\n",
        "Tutti i modelli presentano un MSE molto elevato, ma questo è comprensibile in quanto è il risultato del quadrato della differenza del prezzo predetto con quello reale, un valore destinato ad essere elevato.\n",
        "L'errore relativo è abbastanza consistente, ma diminiusce nei modelli non lineari.\n",
        "\n",
        "Tuttavia, una forbice di errore nel prezzo del 10-15% è da ritenersi accettabile considerando il contesto in cui stiamo lavorando.\n",
        "Per esempio, dovendo inserire un nuovo modello di automobile nel mercato con un prezzo ideale di 20 mila dollari, un errore del genere garantirebbe un range di selezione del prezzo dai 17/18 ai 22/23 mila dollari, il che sembra ragionevole.\n",
        "\n",
        "Si notano differenze tra i risultati di training e validation set, e questo fa pensare che il modello possa essere in overfitting, oppure che il training set non sia sufficientemente significativo.\n",
        "Probabilmente, un dataset più grande avrebbe influito positivamente a riguardo."
      ]
    },
    {
      "cell_type": "markdown",
      "metadata": {
        "id": "IBNVGdY0T2ym"
      },
      "source": [
        "### **Interpretazione della conoscenza appresa dal modello**\n",
        "\n",
        "Andiamo ad interpretare la conoscenza appresa dal modello tramite lo studio dei coefficienti degli iperpiani del modello lineare, in quanto i modelli kernel, nonostante siano più precisi, non sono direttamente interpretabili."
      ]
    },
    {
      "cell_type": "code",
      "metadata": {
        "colab": {
          "base_uri": "https://localhost:8080/"
        },
        "id": "JZPk2cWOUd1T",
        "outputId": "8687c331-e459-4b58-eb65-82f6dec2c604"
      },
      "source": [
        "cat_vars_transformed = linear.named_steps[\"preproc\"].named_transformers_[\"categorical\"].get_feature_names(cat_vars).tolist()\n",
        "linear_coefs = pd.Series(linear.named_steps[\"regr\"].coef_,index= num_vars + cat_vars_transformed)\n",
        "linear_coefs"
      ],
      "execution_count": null,
      "outputs": [
        {
          "output_type": "execute_result",
          "data": {
            "text/plain": [
              "wheelbase                249.612010 \n",
              "curbweight               3.078891   \n",
              "enginesize               39.798593  \n",
              "boreratio               -2637.710893\n",
              "horsepower               40.181742  \n",
              "highwaympg              -6.654128   \n",
              "carwidth                 530.783471 \n",
              "enginetype_dohc          1417.410537\n",
              "enginetype_dohcv        -4609.523212\n",
              "enginetype_l            -1500.553891\n",
              "enginetype_ohc           2408.552956\n",
              "enginetype_ohcf          2404.067835\n",
              "enginetype_ohcv         -1542.985306\n",
              "enginetype_rotor         1423.031081\n",
              "enginelocation_front    -6538.122301\n",
              "enginelocation_rear      6538.122301\n",
              "aspiration_std          -353.957931 \n",
              "aspiration_turbo         353.957931 \n",
              "carbody_convertible      3463.119421\n",
              "carbody_hardtop          741.303502 \n",
              "carbody_hatchback       -1211.790084\n",
              "carbody_sedan           -349.084757 \n",
              "carbody_wagon           -2643.548082\n",
              "cylindernumber_eight     6807.919468\n",
              "cylindernumber_five     -2653.964348\n",
              "cylindernumber_four     -3964.321210\n",
              "cylindernumber_six      -2317.716008\n",
              "cylindernumber_twelve    705.051017 \n",
              "cylindernumber_two       1423.031081\n",
              "drivewheel_4wd           596.182560 \n",
              "drivewheel_fwd          -908.961122 \n",
              "drivewheel_rwd           312.778562 \n",
              "dtype: float64"
            ]
          },
          "metadata": {},
          "execution_count": 44
        }
      ]
    },
    {
      "cell_type": "markdown",
      "metadata": {
        "id": "ltTBKf_y5lQ3"
      },
      "source": [
        "Il valore che assumono i coefficienti ci permette di interpretare quanto le feature incidano nel modello.\n",
        "\n",
        "Analizziamo per esempio il numero dei cilindri:\n",
        "un modello di automobile con un motore a 8 cilindri subirà un incremento del prezzo di quasi 7000 dollari rispetto al valore di partenza del prezzo fornito dal modello.\n",
        "\n",
        "Feature come curbweight hanno un coefficiente molto basso, ma esso va moltiplicato per il peso espresso in libbre, risultando quindi in un incremento consistente rispetto al prezzo di partenza."
      ]
    },
    {
      "cell_type": "code",
      "metadata": {
        "colab": {
          "base_uri": "https://localhost:8080/"
        },
        "id": "IrcbvCK5kDNI",
        "outputId": "0700a02f-bc93-4028-94a5-2eec98c767a6"
      },
      "source": [
        "linear.named_steps[\"regr\"].intercept_"
      ],
      "execution_count": null,
      "outputs": [
        {
          "output_type": "execute_result",
          "data": {
            "text/plain": [
              "-45380.3787173003"
            ]
          },
          "metadata": {},
          "execution_count": 45
        }
      ]
    },
    {
      "cell_type": "markdown",
      "metadata": {
        "id": "AbaKZrQi7TZT"
      },
      "source": [
        "Il prezzo di partenza del modello assume un valore molto negativo.\n",
        "Questo fa capire che ci sono feature che inevitabilmente andranno a portare il valore del prezzo in positivo, come ad esempio i cavalli, la larghezza della macchina, il passo, eccetera."
      ]
    },
    {
      "cell_type": "markdown",
      "metadata": {
        "id": "1PsyCXPt5YmZ"
      },
      "source": [
        "### **Conclusioni**\n",
        "\n",
        "Abbiamo visto come sia possibile addestrare un modello di regressione per determinare il prezzo di mercato di un modello di automobile, basandoci sulle caratteristiche dei modelli già presenti nel listino, ottenendo buoni risultati in termini di efficacia, precisione e coerenza con la realtà del dominio applicativo."
      ]
    }
  ]
}